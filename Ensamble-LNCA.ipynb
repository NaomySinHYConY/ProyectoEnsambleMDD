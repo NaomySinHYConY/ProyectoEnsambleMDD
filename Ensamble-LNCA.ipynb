{
 "cells": [
  {
   "cell_type": "code",
   "execution_count": 2,
   "metadata": {},
   "outputs": [],
   "source": [
    "# Importación de las librerías de los widgets, numpy para el manejo de vectores y operaciones con arreglos, pandas para la \n",
    "# extracción de tablas y características, io para funciones del sistema y display para mostrar los widgets en nuestro \n",
    "# notebook\n",
    "import ipywidgets as widgets\n",
    "import numpy as np\n",
    "import matplotlib.pyplot as plt\n",
    "import pandas as pd\n",
    "import seaborn as sns\n",
    "import random\n",
    "\n",
    "from io import StringIO\n",
    "from IPython.display import display\n",
    "from sklearn.decomposition import PCA\n",
    "from sklearn.model_selection import train_test_split\n",
    "from sklearn.naive_bayes import GaussianNB\n",
    "from sklearn.tree import DecisionTreeClassifier\n",
    "from sklearn.linear_model import Perceptron\n",
    "from sklearn.metrics import confusion_matrix\n",
    "from sklearn.model_selection import KFold\n",
    "from sklearn.model_selection import StratifiedKFold\n",
    "from sklearn.preprocessing import StandardScaler\n",
    "from statistics import mode\n",
    "\n",
    "from IPython.display import Markdown, display\n",
    "def printmd(string):\n",
    "    display(Markdown(string))\n"
   ]
  },
  {
   "cell_type": "code",
   "execution_count": 11,
   "metadata": {},
   "outputs": [],
   "source": [
    "# Delimitador de los valores en el archivo\n",
    "delim = \",\"\n",
    "\n",
    "#Número de filas que se excluyen del set de datos (Observaciones, atributos y clases)\n",
    "rows = 3\n",
    "\n",
    "#Widget para ingresar un valor entero\n",
    "w = widgets.IntSlider(\n",
    "    value=2,\n",
    "    min=2,\n",
    "    max=12,\n",
    "    step=1,\n",
    "    description='#',\n",
    "    disabled=False,\n",
    "    continuous_update=False,\n",
    "    orientation='horizontal',\n",
    "    readout=True,\n",
    "    readout_format='d'\n",
    ")\n",
    "#Widget para obtener un valor entero\n",
    "Folds = widgets.IntSlider(\n",
    "    value=2,\n",
    "    min=2,\n",
    "    max=10,\n",
    "    step=1,\n",
    "    description='#',\n",
    "    disabled=False,\n",
    "    continuous_update=False,\n",
    "    orientation='horizontal',\n",
    "    readout=True,\n",
    "    readout_format='d'\n",
    ")\n",
    "\n",
    "CheckPCA = widgets.Checkbox(\n",
    "    value=False,\n",
    "    description='Mostrar datos PCA',\n",
    "    disabled=False,\n",
    "    indent=False\n",
    ")\n",
    "\n",
    "CheckShuff = widgets.Checkbox(\n",
    "    value=False,\n",
    "    description='Mezclar los datos K-Fold',\n",
    "    disabled=False,\n",
    "    indent=False\n",
    ")\n",
    "\n",
    "#Botón de comienzo del ensamble\n",
    "Start = widgets.Button(\n",
    "        description='Comenzar',\n",
    "        disabled=False,\n",
    "        button_style='', # 'success', 'info', 'warning', 'danger' or ''\n",
    "        tooltip='Comenzar ensamble',\n",
    "        icon='check' # (FontAwesome names without the `fa-` prefix)\n",
    "        )\n",
    "\n",
    "#Widget para el botón que carga los datos y actualiza los límites de los widgets\n",
    "b = widgets.Button(\n",
    "    description='Cargar datos',\n",
    "    disabled=False,\n",
    "    button_style='', # 'success', 'info', 'warning', 'danger' or ''\n",
    "    tooltip='Cargar datos',\n",
    "    icon='check' # (FontAwesome names without the `fa-` prefix)\n",
    ")\n",
    "\n",
    "#Widget de salida\n",
    "output = widgets.Output()\n",
    "\n",
    "\n",
    "#Widget para subir el archivo\n",
    "up= widgets.FileUpload(\n",
    "    accept='',  # Archivos o extenciones válidas. '.txt', '.pdf', 'image/*', 'image/*,.pdf'\n",
    "    multiple=False  # Cambiar a verdadero para aceptar más de un archivo pero no está soportado por la secuencia de lectura\n",
    ")\n",
    "\n",
    "# Convertidor del archivo\n",
    "# Cuando se usa el widget para subir archivos, el formato en el que arroja el documento no puede usarse directamente en la \n",
    "# función read_csv de pandas ya que la estructura es un JSON.\n",
    "\n",
    "# Se tiene que extraer el contenido de una serie de etiquetas, siendo la última (content) la\n",
    "# importante. Esta función sólo extrae de la etiqueta content el archivo leido para luego pasarlo a una cadena o buffer\n",
    "# con formato utf-8 que la función read_csv pueda leer.\n",
    "\n",
    "def content_parser():\n",
    "    # Si el contenido de up no tiene nada, entonces se manda el mensaje de error\n",
    "    \n",
    "    if up.value == {}:\n",
    "        # with output se encarga de mostrar valores en el widget de salida (output)\n",
    "        with output:\n",
    "            print('No CSV loaded')    \n",
    "    else:\n",
    "        # Inicialización de las variables typ y content\n",
    "        typ, content = \"\", \"\"\n",
    "        \n",
    "        # Extracción del contenido del widget up\n",
    "        up_value = up.value\n",
    "        \n",
    "        # Recorre internamente la estructura del JSON que se obtuvo del widget up\n",
    "        for i in up_value.keys():\n",
    "            \n",
    "            # Del valor value de nuestra variable up se extrae el componente type de metadata para verificar que es un\n",
    "            # archivo soportado\n",
    "            \n",
    "            typ = up_value[i][\"metadata\"][\"type\"]\n",
    "            \n",
    "            # Verificación del tipo de archivo\n",
    "            \n",
    "            if typ == \"application/vnd.ms-excel\" or typ == \"text/plain\":\n",
    "                # Extracción del contenido de la etiqueta content\n",
    "                content = up_value[i][\"content\"]\n",
    "                content_str = str(content, 'utf-8')\n",
    "                \n",
    "                if content_str != \"\":\n",
    "                    str_io = StringIO(content_str) \n",
    "                    return str_io\n",
    "\n",
    "def on_b_clicked(b):\n",
    "    # Llamado a la función que permite parsear el contenido\n",
    "    content = content_parser()\n",
    "    \n",
    "    #Si no se regresa un valor parseado entonces no se ejecuta nada de código y sólo se muestra el mensaje de error\n",
    "    if content is not None:\n",
    "        # Lectura del csv desde el buffer de memoria content, quitando los indices de las columnas, estableciendo el\n",
    "        # delimitador del contenido y quitando el header que pueda \n",
    "        data = pd.read_csv(content, index_col=False, sep=delim, header=None, skiprows = 3)\n",
    "        \n",
    "        # Extracción de las dimensiones de nuestro archivo, para poder determinar el final de las características y de las\n",
    "        # observaciones\n",
    "        xDim, yDim = data.shape\n",
    "        \n",
    "        # Extracción del número de observaciones, atributos y clases de nuestros datos\n",
    "        noObservations = content.getvalue().split()[0]\n",
    "        noAttributes = content.getvalue().split()[1]\n",
    "        noClasses = content.getvalue().split()[2]\n",
    "        \n",
    "        # Impresión de los valores obtenidos\n",
    "        print(\"Información de los datos cargados: \")\n",
    "        print(\"# de Observaciones {}\".format(noObservations))\n",
    "        print(\"# de Atributos {}\".format(noAttributes))\n",
    "        print(\"# de Clases {}\".format(noClasses))\n",
    "        \n",
    "        w.max = noAttributes\n",
    "        # Extracción de las primeras n columnas que corresponden a las características de los datos\n",
    "        # Se elimina también la columna de los índices para reiniciar el contador y no empezar desde 3\n",
    "        # Se debe tomar en cuenta que la dimensión en Y es mayor que la dimensión total, por ejemplo, si el dataset\n",
    "        # tiene de 0 a 15 características, entonces la dimensión de Y será de 16, por eso se le resta uno a la dimensión Y\n",
    "        global dataSet\n",
    "        dataSet = data.iloc[rows:,:yDim].reset_index(drop=True)\n",
    "        \n",
    "        # Extracción de la columna que contiene a las clases de nuestro data set\n",
    "        # Se sigue el mismo proceso, pero ahora se mantiene sólo la última columna. Se deja entre [] para que el resultado\n",
    "        # se quede en las mismas condiciones que el anterior\n",
    "        global classes\n",
    "        classes = data.iloc[rows:,yDim - 1 ].reset_index(drop=True)\n",
    "        # Impresión del data set (primeros 5 valores) y de las clases\n",
    "        print(dataSet.head())\n",
    "        print(\"\\n\")\n",
    "        print(classes.head())\n",
    "        display(Start)\n",
    "                \n",
    "#Función para ejecutarse cuando el botón \"Comenzar\" se active\n",
    "def on_Start_clicked(Start):\n",
    "    \n",
    "        NoComp = w.value\n",
    "        pca = PCA(n_components=NoComp)\n",
    "        \n",
    "        print(\"Comenzando PCA con los componentes elegidos\\n\")\n",
    "        \n",
    "        global X_std\n",
    "        X_std = StandardScaler().fit_transform(dataSet)\n",
    "\n",
    "        pca.fit(X_std)\n",
    "        global DatosPCA\n",
    "        DatosPCA = pca.transform(X_std)\n",
    "        \n",
    "        if CheckPCA.value :    \n",
    "            print(\"Radio de varianza\")\n",
    "            print(pca.explained_variance_ratio_)\n",
    "            print(\"\\n\")\n",
    "            print(\"Valores singulares\")\n",
    "            print(pca.singular_values_)\n",
    "            print(\"\\n\")\n",
    "            print(\"Matriz de proyección\")\n",
    "            print((pca.components_).T)\n",
    "        print(\"\\n\")\n",
    "        \n",
    "        folds = Folds.value\n",
    "        # Naive Bayes\n",
    "        X = DatosPCA\n",
    "        y = classes.values\n",
    "    \n",
    "        #Arreglos de predicciones del ensamble para un elemento\n",
    "        y_pred_Ensamble = []\n",
    "    \n",
    "        #Arreglos de efectividad parciales de los clasificadores\n",
    "        ParcialesBayes = []\n",
    "        ParcialesPercep = []\n",
    "        ParcialesArbol = []\n",
    "        ParcialesEnsamble = []\n",
    "        \n",
    "        #Creación de los clasificadores\n",
    "        bayes_ingenuo = GaussianNB()\n",
    "        ppn = Perceptron( eta0=0.1, random_state=0)\n",
    "        clf = DecisionTreeClassifier()\n",
    "    \n",
    "        kf = StratifiedKFold( n_splits = folds , shuffle = CheckShuff.value , random_state = None )\n",
    "    \n",
    "    #     for train_index, test_index in kf.split(X, y):\n",
    "    #         #print(\"TRAIN:\", train_index, \"TEST:\", test_index)\n",
    "    #         X_train, X_test = X[train_index], X[test_index]    \n",
    "    #         y_train, y_test = y[train_index], y[test_index]\n",
    "    \n",
    "    #    for i,split in enumerate kf.split(X, y):\n",
    "        for train_index, test_index in kf.split(X, y):\n",
    "            #print(\"TRAIN:\", train_index, \"TEST:\", test_index)\n",
    "            X_train, X_test = X[train_index], X[test_index]\n",
    "            y_train, y_test = y[train_index], y[test_index]\n",
    "        \n",
    "            printmd( \"\\n\\nComienzo del entrenamiento\")\n",
    "            #Bayes\n",
    "            #bayes_ingenuo = GaussianNB()\n",
    "            # predicción \n",
    "            y_pred = bayes_ingenuo.fit(X_train, y_train).predict(X_test)\n",
    "            # Matriz de confusión\n",
    "            cnf_matrix = confusion_matrix(y_test, y_pred)\n",
    "            ResBayes = 1 - (y_test != y_pred).sum()/y_test.shape[0]\n",
    "            ParcialesBayes.append(ResBayes)\n",
    "            print(\"Aplicando Naive Bayes sobre datos luego del PCA\")\n",
    "            print(\"Cantidad de errores de clasificación sobre un total de {0} casos: {1}\"\n",
    "                    .format(y_test.shape[0],(y_test != y_pred).sum()))\n",
    "            print(\"Efectividad del algoritmo: {0: .2f}\"\n",
    "                    .format(ResBayes))\n",
    "            # Graficando la matriz de confusión\n",
    "            sns.heatmap(cnf_matrix.T, square=True, annot=True, fmt='d', cbar=False)\n",
    "            plt.xlabel('Clase verdadera')\n",
    "            plt.ylabel('Clase predecida')\n",
    "            plt.title('Matriz de Confusión')\n",
    "            plt.show()\n",
    "\n",
    "            #Perceptron\n",
    "            #ppn = Perceptron( eta0=0.1, random_state=0)\n",
    "            ppn.fit(X_train, y_train)\n",
    "            y_predA = ppn.predict(X_test)\n",
    "        \n",
    "            cnf_matrix2 = confusion_matrix(y_test, y_predA)\n",
    "            ResPercep = 1 - (y_test != y_predA).sum()/y_test.shape[0]\n",
    "            ParcialesPercep.append(ResPercep)\n",
    "            print(\"Aplicando Perceptrón sobre datos luego del PCA\")\n",
    "            print(\"Número de iteraciones\")\n",
    "            print(ppn.n_iter_)\n",
    "            print(\"Cantidad de errores de clasificación sobre un total de {0} casos: {1}\"\n",
    "                    .format(y_test.shape[0],(y_test != y_predA).sum()))\n",
    "            print(\"Efectividad del algoritmo: {0: .2f}\"\n",
    "                    .format(ResPercep))\n",
    "            # Graficando la matriz de confusión\n",
    "            sns.heatmap(cnf_matrix2.T, square=True, annot=True, fmt='d', cbar=False)\n",
    "            plt.xlabel('Clase verdadera')\n",
    "            plt.ylabel('Clase predecida')\n",
    "            plt.title('Matriz de Confusión')\n",
    "            plt.show()\n",
    "    \n",
    "    \n",
    "            #Arbol de decisión\n",
    "            #clf = DecisionTreeClassifier()\n",
    "            clf = clf.fit(X_train ,y_train)\n",
    "            y_predP = clf.predict(X_test)\n",
    "\n",
    "            cnf_matrix3 = confusion_matrix(y_test, y_predP)\n",
    "            ResArbol = 1 - (y_test != y_predP).sum()/y_test.shape[0]\n",
    "            ParcialesArbol.append(ResArbol)\n",
    "            print(\"Aplicando Árbol de decisión sobre datos luego del PCA\")\n",
    "            print(\"Cantidad de errores de clasificación sobre un total de {0} casos: {1}\"\n",
    "                    .format(y_test.shape[0],(y_test != y_predP).sum()))\n",
    "            print(\"Efectividad del algoritmo: {0: .2f}\"\n",
    "                    .format(ResArbol))\n",
    "            # Graficando la matriz de confusión\n",
    "            sns.heatmap(cnf_matrix3.T, square=True, annot=True, fmt='d', cbar=False)\n",
    "            plt.xlabel('Clase verdadera')\n",
    "            plt.ylabel('Clase predecida')\n",
    "            plt.title('Matriz de Confusión')\n",
    "            plt.show()\n",
    "            \n",
    "            #Ensamble sobre resultados parciales\n",
    "    \n",
    "            for i in range(len(y_pred)):\n",
    "                y1 = y_pred[i]\n",
    "                y2 = y_predP[i]\n",
    "                y3 = y_predA[i]\n",
    "                x = [y1, y2, y3]\n",
    "                if y1 != y2 and y1 != y3 and y2 != y3 :\n",
    "                    y_pred_Ensamble.append(random.choice(x))\n",
    "                else :\n",
    "                    y_pred_Ensamble.append(mode(x))\n",
    "\n",
    "            cnf_matrixEnsamble = confusion_matrix(y_test, y_pred_Ensamble)\n",
    "            ResEnsamble = 1 - (y_test != y_pred_Ensamble).sum()/y_test.shape[0]\n",
    "            ParcialesEnsamble.append(ResEnsamble)\n",
    "            print(\"Aplicando el ensamble, resultados parciales\")\n",
    "            print(\"Cantidad de errores de clasificación sobre un total de {0} casos: {1}\"\n",
    "                    .format(y_test.shape[0],(y_test != y_pred_Ensamble).sum()))\n",
    "            print(\"Efectividad del algoritmo: {0: .2f}\"\n",
    "                    .format(ResEnsamble))\n",
    "            # Graficando la matriz de confusión\n",
    "            sns.heatmap(cnf_matrixEnsamble.T, square=True, annot=True, fmt='d', cbar=False)\n",
    "            plt.xlabel('Clase verdadera')\n",
    "            plt.ylabel('Clase predecida')\n",
    "            plt.title('Matriz de Confusión')\n",
    "            plt.show()\n",
    "            y_pred_Ensamble = []\n",
    "            print(\" ---------------------------- Fin de vuelta ----------------------------\")\n",
    "\n",
    "        print(\"\\n\\nResultados de efectividad promedio:\")\n",
    "        avgBay = sum(ParcialesBayes)/len(ParcialesBayes)\n",
    "        avgPer = sum(ParcialesPercep)/len(ParcialesPercep)\n",
    "        avgArb = sum(ParcialesArbol)/len(ParcialesArbol)\n",
    "        avgEns = sum(ParcialesEnsamble)/len(ParcialesEnsamble)\n",
    "\n",
    "        print(\"Naive Bayes: \")\n",
    "        print(avgBay)\n",
    "\n",
    "        print(\"Perceptrón: \")\n",
    "        print(avgPer)\n",
    "\n",
    "        print(\"Árbol de decisión: \")\n",
    "        print(avgArb)\n",
    "\n",
    "        print(\"Ensamble aplicado: \")\n",
    "        print(avgEns)\n",
    "           \n",
    "    \n",
    "    # Asignación de la función on_button_clicked al evento on_click del botón b \n",
    "Start.on_click(on_Start_clicked)\n",
    "b.on_click(on_b_clicked)"
   ]
  },
  {
   "cell_type": "code",
   "execution_count": 12,
   "metadata": {
    "scrolled": false
   },
   "outputs": [
    {
     "data": {
      "text/markdown": [
       "-------------------------------- Proyecto final 'Ensamble'- Lluvia Naomy Carmona Avendaño --------------------------------"
      ],
      "text/plain": [
       "<IPython.core.display.Markdown object>"
      ]
     },
     "metadata": {},
     "output_type": "display_data"
    },
    {
     "name": "stdout",
     "output_type": "stream",
     "text": [
      "\n",
      "\n",
      "Cargue el archivo .txt o .csv que contiene los datos a analizar y presione el botón cuando esté listo\n"
     ]
    },
    {
     "data": {
      "application/vnd.jupyter.widget-view+json": {
       "model_id": "fafe256297a042d6bc63c2dda4bf404a",
       "version_major": 2,
       "version_minor": 0
      },
      "text/plain": [
       "FileUpload(value={}, description='Upload')"
      ]
     },
     "metadata": {},
     "output_type": "display_data"
    },
    {
     "data": {
      "application/vnd.jupyter.widget-view+json": {
       "model_id": "ddaf1f54b8164dea9b2b31a0e3dbde92",
       "version_major": 2,
       "version_minor": 0
      },
      "text/plain": [
       "Button(description='Cargar datos', icon='check', style=ButtonStyle(), tooltip='Cargar datos')"
      ]
     },
     "metadata": {},
     "output_type": "display_data"
    },
    {
     "name": "stdout",
     "output_type": "stream",
     "text": [
      "\n",
      "Ingrese el número de componentes para el proceso de PCA\n"
     ]
    },
    {
     "data": {
      "application/vnd.jupyter.widget-view+json": {
       "model_id": "e8d62a2426b949c087111c97742675a1",
       "version_major": 2,
       "version_minor": 0
      },
      "text/plain": [
       "IntSlider(value=2, continuous_update=False, description='#', max=12, min=2)"
      ]
     },
     "metadata": {},
     "output_type": "display_data"
    },
    {
     "name": "stdout",
     "output_type": "stream",
     "text": [
      "\n",
      "Elija el número de pliegues para la validación cruzada\n"
     ]
    },
    {
     "data": {
      "application/vnd.jupyter.widget-view+json": {
       "model_id": "5b2e047cb29f497188b75a2ad04402a1",
       "version_major": 2,
       "version_minor": 0
      },
      "text/plain": [
       "IntSlider(value=2, continuous_update=False, description='#', max=10, min=2)"
      ]
     },
     "metadata": {},
     "output_type": "display_data"
    },
    {
     "data": {
      "application/vnd.jupyter.widget-view+json": {
       "model_id": "b192f816fe4e4aec96056e06ae7e340d",
       "version_major": 2,
       "version_minor": 0
      },
      "text/plain": [
       "Output()"
      ]
     },
     "metadata": {},
     "output_type": "display_data"
    },
    {
     "name": "stdout",
     "output_type": "stream",
     "text": [
      "Marque la casilla siguiente para visualizar los datos correspondientes al proceso PCA\n"
     ]
    },
    {
     "data": {
      "application/vnd.jupyter.widget-view+json": {
       "model_id": "b9ccde80e42f414ba09e8623a818837c",
       "version_major": 2,
       "version_minor": 0
      },
      "text/plain": [
       "Checkbox(value=False, description='Mostrar datos PCA', indent=False)"
      ]
     },
     "metadata": {},
     "output_type": "display_data"
    },
    {
     "name": "stdout",
     "output_type": "stream",
     "text": [
      "Marque la casilla siguiente para mezclar los datos de la validación cruzada antes de dividirlos en lotes\n"
     ]
    },
    {
     "data": {
      "application/vnd.jupyter.widget-view+json": {
       "model_id": "7de6b9f2c2cb45f5ac876a952051a4a6",
       "version_major": 2,
       "version_minor": 0
      },
      "text/plain": [
       "Checkbox(value=False, description='Mezclar los datos K-Fold', indent=False)"
      ]
     },
     "metadata": {},
     "output_type": "display_data"
    },
    {
     "name": "stdout",
     "output_type": "stream",
     "text": [
      "\n",
      "\n",
      "Si los datos son correctos, presione el botón para comenzar \n",
      "\n",
      "\n",
      "Información de los datos cargados: \n",
      "# de Observaciones 409\n",
      "# de Atributos 385\n",
      "# de Clases 6\n",
      "        0         1         2         3         4         5    6     7    \\\n",
      "0  0.683544  0.573705  0.323887  0.824176  0.728665  0.000000  0.0 -0.25   \n",
      "1  0.000000  0.000000  0.000000  0.000000  0.196364  0.947141  0.0 -0.25   \n",
      "2  0.000000  0.000000  0.000000  0.000000  0.196364  0.947616  0.0 -0.25   \n",
      "3  0.000000  0.000000  0.000000  0.000000  0.196364  0.948085  0.0 -0.25   \n",
      "4  0.000000  0.000000  0.000000  0.000000  0.196364  0.949005  0.0 -0.25   \n",
      "\n",
      "    8     9    ...  376  377       378       379  380  381   382   383  \\\n",
      "0 -0.25 -0.25  ...  0.0  0.0  0.995114  0.997632  0.0  0.0 -0.25 -0.25   \n",
      "1 -0.25 -0.25  ...  0.0  0.0  0.000000  0.000000  0.0  0.0 -0.25 -0.25   \n",
      "2 -0.25 -0.25  ...  0.0  0.0  0.000000  0.000000  0.0  0.0 -0.25 -0.25   \n",
      "3 -0.25 -0.25  ...  0.0  0.0  0.000000  0.000000  0.0  0.0 -0.25 -0.25   \n",
      "4 -0.25 -0.25  ...  0.0  0.0  0.000000  0.000000  0.0  0.0 -0.25 -0.25   \n",
      "\n",
      "         384  385  \n",
      "0  11.413571    4  \n",
      "1   9.939380    5  \n",
      "2   9.864216    5  \n",
      "3   9.789051    5  \n",
      "4   9.713887    5  \n",
      "\n",
      "[5 rows x 386 columns]\n",
      "\n",
      "\n",
      "0    4\n",
      "1    5\n",
      "2    5\n",
      "3    5\n",
      "4    5\n",
      "Name: 385, dtype: int64\n",
      "\n",
      "\n"
     ]
    },
    {
     "data": {
      "application/vnd.jupyter.widget-view+json": {
       "model_id": "79111b0417e54011b8fe9f64981f000e",
       "version_major": 2,
       "version_minor": 0
      },
      "text/plain": [
       "Button(description='Comenzar', icon='check', style=ButtonStyle(), tooltip='Comenzar ensamble')"
      ]
     },
     "metadata": {},
     "output_type": "display_data"
    },
    {
     "name": "stdout",
     "output_type": "stream",
     "text": [
      "Comenzando PCA con los componentes elegidos\n",
      "\n",
      "\n",
      "\n"
     ]
    },
    {
     "data": {
      "text/markdown": [
       "\n",
       "\n",
       "Comienzo del entrenamiento"
      ],
      "text/plain": [
       "<IPython.core.display.Markdown object>"
      ]
     },
     "metadata": {},
     "output_type": "display_data"
    },
    {
     "name": "stdout",
     "output_type": "stream",
     "text": [
      "Aplicando Naive Bayes sobre datos luego del PCA\n",
      "Cantidad de errores de clasificación sobre un total de 136 casos: 9\n",
      "Efectividad del algoritmo:  0.93\n"
     ]
    },
    {
     "data": {
      "image/png": "[encoded data removed]",
      "text/plain": [
       "<Figure size 432x288 with 1 Axes>"
      ]
     },
     "metadata": {
      "needs_background": "light"
     },
     "output_type": "display_data"
    },
    {
     "name": "stdout",
     "output_type": "stream",
     "text": [
      "Aplicando Perceptrón sobre datos luego del PCA\n",
      "Número de iteraciones\n",
      "13\n",
      "Cantidad de errores de clasificación sobre un total de 136 casos: 5\n",
      "Efectividad del algoritmo:  0.96\n"
     ]
    },
    {
     "data": {
      "image/png": "[encoded data removed]",
      "text/plain": [
       "<Figure size 432x288 with 1 Axes>"
      ]
     },
     "metadata": {
      "needs_background": "light"
     },
     "output_type": "display_data"
    },
    {
     "name": "stdout",
     "output_type": "stream",
     "text": [
      "Aplicando Árbol de decisión sobre datos luego del PCA\n",
      "Cantidad de errores de clasificación sobre un total de 136 casos: 14\n",
      "Efectividad del algoritmo:  0.90\n"
     ]
    },
    {
     "data": {
      "image/png": "[encoded data removed]",
      "text/plain": [
       "<Figure size 432x288 with 1 Axes>"
      ]
     },
     "metadata": {
      "needs_background": "light"
     },
     "output_type": "display_data"
    },
    {
     "name": "stdout",
     "output_type": "stream",
     "text": [
      "Aplicando el ensamble, resultados parciales\n",
      "Cantidad de errores de clasificación sobre un total de 136 casos: 7\n",
      "Efectividad del algoritmo:  0.95\n"
     ]
    },
    {
     "data": {
      "image/png": "[encoded data removed]",
      "text/plain": [
       "<Figure size 432x288 with 1 Axes>"
      ]
     },
     "metadata": {
      "needs_background": "light"
     },
     "output_type": "display_data"
    },
    {
     "name": "stdout",
     "output_type": "stream",
     "text": [
      " ---------------------------- Fin de vuelta ----------------------------\n"
     ]
    },
    {
     "data": {
      "text/markdown": [
       "\n",
       "\n",
       "Comienzo del entrenamiento"
      ],
      "text/plain": [
       "<IPython.core.display.Markdown object>"
      ]
     },
     "metadata": {},
     "output_type": "display_data"
    },
    {
     "name": "stdout",
     "output_type": "stream",
     "text": [
      "Aplicando Naive Bayes sobre datos luego del PCA\n",
      "Cantidad de errores de clasificación sobre un total de 135 casos: 9\n",
      "Efectividad del algoritmo:  0.93\n"
     ]
    },
    {
     "data": {
      "image/png": "[encoded data removed]",
      "text/plain": [
       "<Figure size 432x288 with 1 Axes>"
      ]
     },
     "metadata": {
      "needs_background": "light"
     },
     "output_type": "display_data"
    },
    {
     "name": "stdout",
     "output_type": "stream",
     "text": [
      "Aplicando Perceptrón sobre datos luego del PCA\n",
      "Número de iteraciones\n",
      "16\n",
      "Cantidad de errores de clasificación sobre un total de 135 casos: 1\n",
      "Efectividad del algoritmo:  0.99\n"
     ]
    },
    {
     "data": {
      "image/png": "[encoded data removed]",
      "text/plain": [
       "<Figure size 432x288 with 1 Axes>"
      ]
     },
     "metadata": {
      "needs_background": "light"
     },
     "output_type": "display_data"
    },
    {
     "name": "stdout",
     "output_type": "stream",
     "text": [
      "Aplicando Árbol de decisión sobre datos luego del PCA\n",
      "Cantidad de errores de clasificación sobre un total de 135 casos: 6\n",
      "Efectividad del algoritmo:  0.96\n"
     ]
    },
    {
     "data": {
      "image/png": "[encoded data removed]",
      "text/plain": [
       "<Figure size 432x288 with 1 Axes>"
      ]
     },
     "metadata": {
      "needs_background": "light"
     },
     "output_type": "display_data"
    },
    {
     "name": "stdout",
     "output_type": "stream",
     "text": [
      "Aplicando el ensamble, resultados parciales\n",
      "Cantidad de errores de clasificación sobre un total de 135 casos: 1\n",
      "Efectividad del algoritmo:  0.99\n"
     ]
    },
    {
     "data": {
      "image/png": "[encoded data removed]",
      "text/plain": [
       "<Figure size 432x288 with 1 Axes>"
      ]
     },
     "metadata": {
      "needs_background": "light"
     },
     "output_type": "display_data"
    },
    {
     "name": "stdout",
     "output_type": "stream",
     "text": [
      " ---------------------------- Fin de vuelta ----------------------------\n"
     ]
    },
    {
     "data": {
      "text/markdown": [
       "\n",
       "\n",
       "Comienzo del entrenamiento"
      ],
      "text/plain": [
       "<IPython.core.display.Markdown object>"
      ]
     },
     "metadata": {},
     "output_type": "display_data"
    },
    {
     "name": "stdout",
     "output_type": "stream",
     "text": [
      "Aplicando Naive Bayes sobre datos luego del PCA\n",
      "Cantidad de errores de clasificación sobre un total de 135 casos: 8\n",
      "Efectividad del algoritmo:  0.94\n"
     ]
    },
    {
     "data": {
      "image/png": "[encoded data removed]",
      "text/plain": [
       "<Figure size 432x288 with 1 Axes>"
      ]
     },
     "metadata": {
      "needs_background": "light"
     },
     "output_type": "display_data"
    },
    {
     "name": "stdout",
     "output_type": "stream",
     "text": [
      "Aplicando Perceptrón sobre datos luego del PCA\n",
      "Número de iteraciones\n",
      "13\n",
      "Cantidad de errores de clasificación sobre un total de 135 casos: 1\n",
      "Efectividad del algoritmo:  0.99\n"
     ]
    },
    {
     "data": {
      "image/png": "[encoded data removed]",
      "text/plain": [
       "<Figure size 432x288 with 1 Axes>"
      ]
     },
     "metadata": {
      "needs_background": "light"
     },
     "output_type": "display_data"
    },
    {
     "name": "stdout",
     "output_type": "stream",
     "text": [
      "Aplicando Árbol de decisión sobre datos luego del PCA\n",
      "Cantidad de errores de clasificación sobre un total de 135 casos: 9\n",
      "Efectividad del algoritmo:  0.93\n"
     ]
    },
    {
     "data": {
      "image/png": "[encoded data removed]",
      "text/plain": [
       "<Figure size 432x288 with 1 Axes>"
      ]
     },
     "metadata": {
      "needs_background": "light"
     },
     "output_type": "display_data"
    },
    {
     "name": "stdout",
     "output_type": "stream",
     "text": [
      "Aplicando el ensamble, resultados parciales\n",
      "Cantidad de errores de clasificación sobre un total de 135 casos: 3\n",
      "Efectividad del algoritmo:  0.98\n"
     ]
    },
    {
     "data": {
      "image/png": "[encoded data removed]",
      "text/plain": [
       "<Figure size 432x288 with 1 Axes>"
      ]
     },
     "metadata": {
      "needs_background": "light"
     },
     "output_type": "display_data"
    },
    {
     "name": "stdout",
     "output_type": "stream",
     "text": [
      " ---------------------------- Fin de vuelta ----------------------------\n",
      "\n",
      "\n",
      "Resultados de efectividad promedio:\n",
      "Naive Bayes: \n",
      "0.9359658678286129\n",
      "Perceptrón: \n",
      "0.9828068264342774\n",
      "Árbol de decisión: \n",
      "0.9286492374727668\n",
      "Ensamble aplicado: \n",
      "0.9729665940450255\n"
     ]
    }
   ],
   "source": [
    "printmd(\"-------------------------------- Proyecto final 'Ensamble'- Lluvia Naomy Carmona Avendaño --------------------------------\")\n",
    "print(\"\\n\\nCargue el archivo .txt o .csv que contiene los datos a analizar y presione el botón cuando esté listo\")\n",
    "display(up, b)\n",
    "print(\"\\nIngrese el número de componentes para el proceso de PCA\")\n",
    "display(w)\n",
    "print(\"\\nElija el número de pliegues para la validación cruzada\")\n",
    "display(Folds, output)\n",
    "print(\"Marque la casilla siguiente para visualizar los datos correspondientes al proceso PCA\")\n",
    "display(CheckPCA)\n",
    "print(\"Marque la casilla siguiente para mezclar los datos de la validación cruzada antes de dividirlos en lotes\")\n",
    "display(CheckShuff)\n",
    "print(\"\\n\\nSi los datos son correctos, presione el botón para comenzar \\n\\n\")"
   ]
  }
 ],
 "metadata": {
  "file_extension": ".py",
  "kernelspec": {
   "display_name": "Python 3",
   "language": "python",
   "name": "python3"
  },
  "language_info": {
   "codemirror_mode": {
    "name": "ipython",
    "version": 3
   },
   "file_extension": ".py",
   "mimetype": "text/x-python",
   "name": "python",
   "nbconvert_exporter": "python",
   "pygments_lexer": "ipython3",
   "version": "3.8.2"
  },
  "mimetype": "text/x-python",
  "name": "python",
  "npconvert_exporter": "python",
  "pygments_lexer": "ipython3",
  "version": 3
 },
 "nbformat": 4,
 "nbformat_minor": 2
}
