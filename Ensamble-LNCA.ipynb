{
 "cells": [
  {
   "cell_type": "code",
   "execution_count": 2,
   "metadata": {},
   "outputs": [],
   "source": [
    "# Importación de las librerías de los widgets, numpy para el manejo de vectores y operaciones con arreglos, pandas para la \n",
    "# extracción de tablas y características, io para funciones del sistema y display para mostrar los widgets en nuestro \n",
    "# notebook\n",
    "import ipywidgets as widgets\n",
    "import numpy as np\n",
    "import matplotlib.pyplot as plt\n",
    "import pandas as pd\n",
    "import seaborn as sns\n",
    "import random\n",
    "\n",
    "from io import StringIO\n",
    "from IPython.display import display\n",
    "from sklearn.decomposition import PCA\n",
    "from sklearn.model_selection import train_test_split\n",
    "from sklearn.naive_bayes import GaussianNB\n",
    "from sklearn.tree import DecisionTreeClassifier\n",
    "from sklearn.linear_model import Perceptron\n",
    "from sklearn.metrics import confusion_matrix\n",
    "from sklearn.model_selection import KFold\n",
    "from sklearn.model_selection import StratifiedKFold\n",
    "from sklearn.preprocessing import StandardScaler\n",
    "from statistics import mode\n"
   ]
  },
  {
   "cell_type": "code",
   "execution_count": 13,
   "metadata": {},
   "outputs": [],
   "source": [
    "# Delimitador de los valores en el archivo\n",
    "delim = \",\"\n",
    "\n",
    "#Número de filas que se excluyen del set de datos (Observaciones, atributos y clases)\n",
    "rows = 3\n",
    "\n",
    "#Widget para ingresar un valor entero\n",
    "w = widgets.IntSlider(\n",
    "    value=2,\n",
    "    min=2,\n",
    "    max=12,\n",
    "    step=1,\n",
    "    description='#',\n",
    "    disabled=False,\n",
    "    continuous_update=False,\n",
    "    orientation='horizontal',\n",
    "    readout=True,\n",
    "    readout_format='d'\n",
    ")\n",
    "#Widget para obtener un valor entero\n",
    "Folds = widgets.IntSlider(\n",
    "    value=2,\n",
    "    min=2,\n",
    "    max=10,\n",
    "    step=1,\n",
    "    description='#',\n",
    "    disabled=False,\n",
    "    continuous_update=False,\n",
    "    orientation='horizontal',\n",
    "    readout=True,\n",
    "    readout_format='d'\n",
    ")\n",
    "\n",
    "#Botón de comienzo del ensamble\n",
    "Start = widgets.Button(\n",
    "        description='Comenzar',\n",
    "        disabled=False,\n",
    "        button_style='', # 'success', 'info', 'warning', 'danger' or ''\n",
    "        tooltip='Comenzar ensamble',\n",
    "        icon='check' # (FontAwesome names without the `fa-` prefix)\n",
    "        )\n",
    "\n",
    "#Widget para el botón que carga los datos y actualiza los límites de los widgets\n",
    "b = widgets.Button(\n",
    "    description='Cargar datos',\n",
    "    disabled=False,\n",
    "    button_style='', # 'success', 'info', 'warning', 'danger' or ''\n",
    "    tooltip='Cargar datos',\n",
    "    icon='check' # (FontAwesome names without the `fa-` prefix)\n",
    ")\n",
    "\n",
    "#Widget de salida\n",
    "output = widgets.Output()\n",
    "\n",
    "\n",
    "#Widget para subir el archivo\n",
    "up= widgets.FileUpload(\n",
    "    accept='',  # Archivos o extenciones válidas. '.txt', '.pdf', 'image/*', 'image/*,.pdf'\n",
    "    multiple=False  # Cambiar a verdadero para aceptar más de un archivo pero no está soportado por la secuencia de lectura\n",
    ")\n",
    "\n",
    "# Convertidor del archivo\n",
    "# Cuando se usa el widget para subir archivos, el formato en el que arroja el documento no puede usarse directamente en la \n",
    "# función read_csv de pandas ya que la estructura es un JSON.\n",
    "\n",
    "# Se tiene que extraer el contenido de una serie de etiquetas, siendo la última (content) la\n",
    "# importante. Esta función sólo extrae de la etiqueta content el archivo leido para luego pasarlo a una cadena o buffer\n",
    "# con formato utf-8 que la función read_csv pueda leer.\n",
    "\n",
    "def content_parser():\n",
    "    # Si el contenido de up no tiene nada, entonces se manda el mensaje de error\n",
    "    \n",
    "    if up.value == {}:\n",
    "        # with output se encarga de mostrar valores en el widget de salida (output)\n",
    "        with output:\n",
    "            print('No CSV loaded')    \n",
    "    else:\n",
    "        # Inicialización de las variables typ y content\n",
    "        typ, content = \"\", \"\"\n",
    "        \n",
    "        # Extracción del contenido del widget up\n",
    "        up_value = up.value\n",
    "        \n",
    "        # Recorre internamente la estructura del JSON que se obtuvo del widget up\n",
    "        for i in up_value.keys():\n",
    "            \n",
    "            # Del valor value de nuestra variable up se extrae el componente type de metadata para verificar que es un\n",
    "            # archivo soportado\n",
    "            \n",
    "            typ = up_value[i][\"metadata\"][\"type\"]\n",
    "            \n",
    "            # Verificación del tipo de archivo\n",
    "            \n",
    "            if typ == \"application/vnd.ms-excel\" or typ == \"text/plain\":\n",
    "                # Extracción del contenido de la etiqueta content\n",
    "                content = up_value[i][\"content\"]\n",
    "                content_str = str(content, 'utf-8')\n",
    "                \n",
    "                if content_str != \"\":\n",
    "                    str_io = StringIO(content_str) \n",
    "                    return str_io\n",
    "\n",
    "def on_b_clicked(b):\n",
    "    # Llamado a la función que permite parsear el contenido\n",
    "    content = content_parser()\n",
    "    \n",
    "    #Si no se regresa un valor parseado entonces no se ejecuta nada de código y sólo se muestra el mensaje de error\n",
    "    if content is not None:\n",
    "        # Lectura del csv desde el buffer de memoria content, quitando los indices de las columnas, estableciendo el\n",
    "        # delimitador del contenido y quitando el header que pueda \n",
    "        data = pd.read_csv(content, index_col=False, sep=delim, header=None)\n",
    "        \n",
    "        # Extracción de las dimensiones de nuestro archivo, para poder determinar el final de las características y de las\n",
    "        # observaciones\n",
    "        xDim, yDim = data.shape\n",
    "        \n",
    "        # Extracción del número de observaciones, atributos y clases de nuestros datos\n",
    "        noObservations = data[0][0]    \n",
    "        noAttributes = data[0][1]\n",
    "        noClasses = data[0][2]\n",
    "        \n",
    "        # Impresión de los valores obtenidos\n",
    "        print(\"Información de los datos cargados: \")\n",
    "        print(\"# de Observaciones {}\".format(noObservations))\n",
    "        print(\"# de Atributos {}\".format(noAttributes))\n",
    "        print(\"# de Clases {}\".format(noClasses))\n",
    "        \n",
    "        w.max = noAttributes\n",
    "        # Extracción de las primeras n columnas que corresponden a las características de los datos\n",
    "        # Se elimina también la columna de los índices para reiniciar el contador y no empezar desde 3\n",
    "        # Se debe tomar en cuenta que la dimensión en Y es mayor que la dimensión total, por ejemplo, si el dataset\n",
    "        # tiene de 0 a 15 características, entonces la dimensión de Y será de 16, por eso se le resta uno a la dimensión Y\n",
    "        global dataSet\n",
    "        dataSet = data.iloc[rows:,:yDim].reset_index(drop=True)\n",
    "        \n",
    "        # Extracción de la columna que contiene a las clases de nuestro data set\n",
    "        # Se sigue el mismo proceso, pero ahora se mantiene sólo la última columna. Se deja entre [] para que el resultado\n",
    "        # se quede en las mismas condiciones que el anterior\n",
    "        global classes\n",
    "        classes = data.iloc[rows:,yDim - 1 ].reset_index(drop=True)\n",
    "        # Impresión del data set (primeros 5 valores) y de las clases\n",
    "        print(dataSet.head())\n",
    "        print(\"\\n\")\n",
    "        print(classes.head())\n",
    "        print(\"\\n\")\n",
    "        display(Start)\n",
    "                \n",
    "#Función para ejecutarse cuando el botón \"Comenzar\" se active\n",
    "def on_Start_clicked(Start):\n",
    "    \n",
    "        NoComp = w.value\n",
    "        #dataSet.head()\n",
    "        pca = PCA(n_components=NoComp)\n",
    "        \n",
    "        print(\"Comenzando PCA con los componentes elegidos\\n\")\n",
    "        \n",
    "        global X_std\n",
    "        X_std = StandardScaler().fit_transform(dataSet)\n",
    "\n",
    "        pca.fit(X_std)\n",
    "        global DatosPCA\n",
    "        DatosPCA = pca.transform(X_std)\n",
    "    \n",
    "        print(\"Radio de varianza\")\n",
    "        print(pca.explained_variance_ratio_)\n",
    "        print(\"\\n\")\n",
    "        print(\"Valores singulares\")\n",
    "        print(pca.singular_values_)\n",
    "        print(\"\\n\")\n",
    "        print(\"Matriz de proyección\")\n",
    "        print((pca.components_).T)\n",
    "        print(\"\\n\")\n",
    "        folds = Folds.value\n",
    "        # Naive Bayes\n",
    "        X = DatosPCA\n",
    "        y = classes.values\n",
    "    \n",
    "        #Arreglos de predicciones del ensamble para un elemento\n",
    "        y_pred_Ensamble = []\n",
    "    \n",
    "        #Arreglos de efectividad parciales de los clasificadores\n",
    "        ParcialesBayes = []\n",
    "        ParcialesPercep = []\n",
    "        ParcialesArbol = []\n",
    "        ParcialesEnsamble = []\n",
    "    \n",
    "        kf = StratifiedKFold( n_splits = folds , shuffle = True , random_state = None )\n",
    "    \n",
    "    #     for train_index, test_index in kf.split(X, y):\n",
    "    #         #print(\"TRAIN:\", train_index, \"TEST:\", test_index)\n",
    "    #         X_train, X_test = X[train_index], X[test_index]    \n",
    "    #         y_train, y_test = y[train_index], y[test_index]\n",
    "    \n",
    "    #    for i,split in enumerate kf.split(X, y):\n",
    "        for train_index, test_index in kf.split(X, y):\n",
    "            #print(\"TRAIN:\", train_index, \"TEST:\", test_index)\n",
    "            X_train, X_test = X[train_index], X[test_index]\n",
    "            y_train, y_test = y[train_index], y[test_index]\n",
    "        \n",
    "            #print( \"    Comienzo del entrenamiento, vuelta {}\".format(i))\n",
    "            #Bayes\n",
    "            bayes_ingenuo = GaussianNB()\n",
    "            # predicción \n",
    "            y_pred = bayes_ingenuo.fit(X_train, y_train).predict(X_test)\n",
    "            # Matriz de confusión\n",
    "            cnf_matrix = confusion_matrix(y_test, y_pred)\n",
    "            ResBayes = 1 - (y_test != y_pred).sum()/y_test.shape[0]\n",
    "            ParcialesBayes.append(ResBayes)\n",
    "            print(\"Aplicando Naive Bayes sobre datos luego del PCA\")\n",
    "            print(\"Cantidad de errores de clasificación sobre un total de {0} casos: {1}\"\n",
    "                    .format(y_test.shape[0],(y_test != y_pred).sum()))\n",
    "            print(\"Efectividad del algoritmo: {0: .2f}\"\n",
    "                    .format(ResBayes))\n",
    "            # Graficando la matriz de confusión\n",
    "            sns.heatmap(cnf_matrix.T, square=True, annot=True, fmt='d', cbar=False)\n",
    "            plt.xlabel('Clase verdadera')\n",
    "            plt.ylabel('Clase predecida')\n",
    "            plt.title('Matriz de Confusión')\n",
    "            plt.show()\n",
    "\n",
    "            #Perceptron\n",
    "            ppn = Perceptron( eta0=0.1, random_state=0)\n",
    "            ppn.fit(X_train, y_train)\n",
    "            y_predA = ppn.predict(X_test)\n",
    "        \n",
    "            cnf_matrix2 = confusion_matrix(y_test, y_predA)\n",
    "            ResPercep = 1 - (y_test != y_predA).sum()/y_test.shape[0]\n",
    "            ParcialesPercep.append(ResPercep)\n",
    "            print(\"Aplicando Perceptrón sobre datos luego del PCA\")\n",
    "            print(\"Número de iteraciones\")\n",
    "            print(ppn.n_iter_)\n",
    "            print(\"Cantidad de errores de clasificación sobre un total de {0} casos: {1}\"\n",
    "                    .format(y_test.shape[0],(y_test != y_predA).sum()))\n",
    "            print(\"Efectividad del algoritmo: {0: .2f}\"\n",
    "                    .format(ResPercep))\n",
    "            # Graficando la matriz de confusión\n",
    "            sns.heatmap(cnf_matrix2.T, square=True, annot=True, fmt='d', cbar=False)\n",
    "            plt.xlabel('Clase verdadera')\n",
    "            plt.ylabel('Clase predecida')\n",
    "            plt.title('Matriz de Confusión')\n",
    "            plt.show()\n",
    "    \n",
    "    \n",
    "            #Arbol de decisión\n",
    "            clf = DecisionTreeClassifier()\n",
    "            clf = clf.fit(X_train ,y_train)\n",
    "            y_predP = clf.predict(X_test)\n",
    "\n",
    "            cnf_matrix3 = confusion_matrix(y_test, y_predP)\n",
    "            ResArbol = 1 - (y_test != y_predP).sum()/y_test.shape[0]\n",
    "            ParcialesArbol.append(ResArbol)\n",
    "            print(\"Aplicando Árbol de decisión sobre datos luego del PCA\")\n",
    "            print(\"Cantidad de errores de clasificación sobre un total de {0} casos: {1}\"\n",
    "                    .format(y_test.shape[0],(y_test != y_predP).sum()))\n",
    "            print(\"Efectividad del algoritmo: {0: .2f}\"\n",
    "                    .format(ResArbol))\n",
    "            # Graficando la matriz de confusión\n",
    "            sns.heatmap(cnf_matrix3.T, square=True, annot=True, fmt='d', cbar=False)\n",
    "            plt.xlabel('Clase verdadera')\n",
    "            plt.ylabel('Clase predecida')\n",
    "            plt.title('Matriz de Confusión')\n",
    "            plt.show()\n",
    "    \n",
    "            #Ensamble sobre resultados parciales\n",
    "    \n",
    "            for i in range(len(y_pred)):\n",
    "                y1 = y_pred[i]\n",
    "                y2 = y_predP[i]\n",
    "                y3 = y_predA[i]\n",
    "                x = [y1, y2, y3]\n",
    "                if y1 != y2 and y1 != y3 and y2 != y3 :\n",
    "                    y_pred_Ensamble.append(random.choice(x))\n",
    "                else :\n",
    "                    y_pred_Ensamble.append(mode(x))\n",
    "\n",
    "            cnf_matrixEnsamble = confusion_matrix(y_test, y_pred_Ensamble)\n",
    "            ResEnsamble = 1 - (y_test != y_pred_Ensamble).sum()/y_test.shape[0]\n",
    "            ParcialesEnsamble.append(ResEnsamble)\n",
    "            print(\"Aplicando el ensamble, resultados parciales\")\n",
    "            print(\"Cantidad de errores de clasificación sobre un total de {0} casos: {1}\"\n",
    "                    .format(y_test.shape[0],(y_test != y_pred_Ensamble).sum()))\n",
    "            print(\"Efectividad del algoritmo: {0: .2f}\"\n",
    "                    .format(ResEnsamble))\n",
    "            # Graficando la matriz de confusión\n",
    "            sns.heatmap(cnf_matrixEnsamble.T, square=True, annot=True, fmt='d', cbar=False)\n",
    "            plt.xlabel('Clase verdadera')\n",
    "            plt.ylabel('Clase predecida')\n",
    "            plt.title('Matriz de Confusión')\n",
    "            plt.show()\n",
    "            y_pred_Ensamble = []\n",
    "\n",
    "        print(\"Resultados de efectividad promedio:\")\n",
    "        avgBay = sum(ParcialesBayes)/len(ParcialesBayes)\n",
    "        avgPer = sum(ParcialesPercep)/len(ParcialesPercep)\n",
    "        avgArb = sum(ParcialesArbol)/len(ParcialesArbol)\n",
    "        avgEns = sum(ParcialesEnsamble)/len(ParcialesEnsamble)\n",
    "\n",
    "        print(\"Naive Bayes: \")\n",
    "        print(avgBay)\n",
    "\n",
    "        print(\"Perceptrón: \")\n",
    "        print(avgPer)\n",
    "\n",
    "        print(\"Árbol de decisión: \")\n",
    "        print(avgArb)\n",
    "\n",
    "        print(\"Ensamble aplicado: \")\n",
    "        print(avgEns)\n",
    "           \n",
    "    \n",
    "    # Asignación de la función on_button_clicked al evento on_click del botón b \n",
    "Start.on_click(on_Start_clicked)\n",
    "b.on_click(on_b_clicked)"
   ]
  },
  {
   "cell_type": "code",
   "execution_count": 14,
   "metadata": {
    "scrolled": false
   },
   "outputs": [
    {
     "name": "stdout",
     "output_type": "stream",
     "text": [
      "Cargue el archivo .txt o .csv que contiene los datos a analizar y presione el botón cuando esté listo\n"
     ]
    },
    {
     "data": {
      "application/vnd.jupyter.widget-view+json": {
       "model_id": "81d5bc56ed5d4a7e9afd17ccdb3a0fc9",
       "version_major": 2,
       "version_minor": 0
      },
      "text/plain": [
       "FileUpload(value={}, description='Upload')"
      ]
     },
     "metadata": {},
     "output_type": "display_data"
    },
    {
     "data": {
      "application/vnd.jupyter.widget-view+json": {
       "model_id": "839d2bab815b44c39de699ce1b9f8f7c",
       "version_major": 2,
       "version_minor": 0
      },
      "text/plain": [
       "Button(description='Cargar datos', icon='check', style=ButtonStyle(), tooltip='Cargar datos')"
      ]
     },
     "metadata": {},
     "output_type": "display_data"
    },
    {
     "name": "stdout",
     "output_type": "stream",
     "text": [
      "\n",
      "Ingrese el número de componentes para el proceso de PCA\n"
     ]
    },
    {
     "data": {
      "application/vnd.jupyter.widget-view+json": {
       "model_id": "188a27d0b2e04f58a5b3c07c0d9fad27",
       "version_major": 2,
       "version_minor": 0
      },
      "text/plain": [
       "IntSlider(value=2, continuous_update=False, description='#', max=12, min=2)"
      ]
     },
     "metadata": {},
     "output_type": "display_data"
    },
    {
     "name": "stdout",
     "output_type": "stream",
     "text": [
      "\n",
      "Elija el número de pliegues para la validación cruzada\n"
     ]
    },
    {
     "data": {
      "application/vnd.jupyter.widget-view+json": {
       "model_id": "cec73b501416429aa167f371385b4b4f",
       "version_major": 2,
       "version_minor": 0
      },
      "text/plain": [
       "IntSlider(value=2, continuous_update=False, description='#', max=10, min=2)"
      ]
     },
     "metadata": {},
     "output_type": "display_data"
    },
    {
     "data": {
      "application/vnd.jupyter.widget-view+json": {
       "model_id": "996a14f3e1e44ea8b3684240d2a85f6c",
       "version_major": 2,
       "version_minor": 0
      },
      "text/plain": [
       "Output()"
      ]
     },
     "metadata": {},
     "output_type": "display_data"
    },
    {
     "name": "stdout",
     "output_type": "stream",
     "text": [
      "\n",
      "\n",
      "Si los datos son correctos, presione el botón para comenzar \n",
      "\n",
      "\n",
      "Información de los datos cargados: \n",
      "# de Observaciones 409.0\n",
      "# de Atributos 385.0\n",
      "# de Clases 6.0\n",
      "        0         1         2         3         4         5    6     7    \\\n",
      "0  0.622490  0.000000  0.000000  0.000000  0.000000  0.000000  0.0  0.00   \n",
      "1  0.630137  0.400524  0.421793  0.850483  0.734300  0.000000  0.0 -0.25   \n",
      "2  0.657718  0.773077  0.850657  0.753205  0.000000  0.000000  0.0 -0.25   \n",
      "3  0.683544  0.573705  0.323887  0.824176  0.728665  0.000000  0.0 -0.25   \n",
      "4  0.000000  0.000000  0.000000  0.000000  0.196364  0.947141  0.0 -0.25   \n",
      "\n",
      "    8     9    ...  376      377       378       379  380  381   382   383  \\\n",
      "0  0.00 -0.25  ...  0.0  0.00000  0.000000  0.000000  0.0  0.0  0.00  0.00   \n",
      "1 -0.25 -0.25  ...  0.0  0.97244  0.995384  0.997934  0.0  0.0 -0.25 -0.25   \n",
      "2 -0.25 -0.25  ...  0.0  0.95305  0.986386  0.993740  0.0  0.0 -0.25 -0.25   \n",
      "3 -0.25 -0.25  ...  0.0  0.00000  0.995114  0.997632  0.0  0.0 -0.25 -0.25   \n",
      "4 -0.25 -0.25  ...  0.0  0.00000  0.000000  0.000000  0.0  0.0 -0.25 -0.25   \n",
      "\n",
      "         384  385  \n",
      "0  27.937052  4.0  \n",
      "1  11.468284  4.0  \n",
      "2  13.492684  4.0  \n",
      "3  11.413571  4.0  \n",
      "4   9.939380  5.0  \n",
      "\n",
      "[5 rows x 386 columns]\n",
      "\n",
      "\n",
      "0    4.0\n",
      "1    4.0\n",
      "2    4.0\n",
      "3    4.0\n",
      "4    5.0\n",
      "Name: 385, dtype: float64\n",
      "\n",
      "\n"
     ]
    },
    {
     "data": {
      "application/vnd.jupyter.widget-view+json": {
       "model_id": "33c28124b3544d01a66e2da11c2238c1",
       "version_major": 2,
       "version_minor": 0
      },
      "text/plain": [
       "Button(description='Comenzar', icon='check', style=ButtonStyle(), tooltip='Comenzar ensamble')"
      ]
     },
     "metadata": {},
     "output_type": "display_data"
    },
    {
     "name": "stdout",
     "output_type": "stream",
     "text": [
      "Comenzando PCA con los componentes elegidos\n",
      "\n",
      "Radio de varianza\n",
      "[2.12746157e-01 1.44700058e-01 1.02635540e-01 6.72662508e-02\n",
      " 5.20763417e-02 4.48735955e-02 2.82287083e-02 2.57766140e-02\n",
      " 2.27943688e-02 1.85915672e-02 1.83362388e-02 1.66341423e-02\n",
      " 1.42870224e-02 1.27026907e-02 1.21802405e-02 1.10874956e-02\n",
      " 1.05003528e-02 9.74331886e-03 9.25144592e-03 8.42957367e-03\n",
      " 7.91866958e-03 7.27029532e-03 6.71419611e-03 6.11868330e-03\n",
      " 5.51526180e-03 5.28364362e-03 4.86270637e-03 4.76972576e-03\n",
      " 4.53602326e-03 4.22871305e-03 3.81401813e-03 3.58041503e-03\n",
      " 3.46345182e-03 3.31789465e-03 3.11128904e-03 3.06991755e-03\n",
      " 2.94512434e-03 2.84753852e-03 2.60320697e-03 2.56703234e-03\n",
      " 2.37683741e-03 2.21954525e-03 2.16768310e-03 2.05248866e-03\n",
      " 2.00045966e-03 1.94888448e-03 1.86496927e-03 1.83633673e-03\n",
      " 1.75712666e-03 1.69224573e-03 1.60217651e-03 1.53297207e-03\n",
      " 1.46517094e-03 1.41426051e-03 1.38234875e-03 1.32368108e-03\n",
      " 1.27606344e-03 1.24057284e-03 1.16788583e-03 1.07942743e-03\n",
      " 1.04129976e-03 9.73906209e-04 9.72959390e-04 9.22355480e-04\n",
      " 8.98835897e-04 8.78580633e-04 8.32598714e-04 8.22863185e-04\n",
      " 7.88698804e-04 7.59467078e-04 7.30013400e-04 7.20833541e-04\n",
      " 6.96458156e-04 6.50723208e-04 6.45540475e-04 6.19951182e-04\n",
      " 5.97191962e-04 5.90906174e-04 5.76580690e-04 5.59461129e-04\n",
      " 5.51115767e-04 5.22743027e-04 5.09520373e-04 4.95220487e-04\n",
      " 4.78059994e-04 4.59234160e-04 4.55276776e-04 4.47215074e-04\n",
      " 4.11401220e-04 4.05519148e-04 4.00684786e-04 3.87624592e-04\n",
      " 3.67086431e-04 3.62108000e-04 3.55756859e-04 3.52902460e-04\n",
      " 3.42401042e-04 3.23985869e-04 3.14561644e-04 3.10185723e-04\n",
      " 3.01067343e-04 2.91593610e-04 2.86237102e-04 2.72968358e-04\n",
      " 2.65900807e-04 2.60314010e-04 2.54039260e-04 2.49400037e-04\n",
      " 2.39777947e-04 2.34694873e-04 2.23120859e-04 2.18741849e-04\n",
      " 2.15094938e-04 2.06669587e-04 2.03683189e-04 1.99906620e-04\n",
      " 1.90593014e-04 1.89460193e-04 1.83624984e-04 1.70526841e-04\n",
      " 1.67175853e-04 1.65500499e-04 1.62190516e-04 1.55999087e-04\n",
      " 1.50605766e-04 1.49367005e-04 1.43221731e-04 1.39825468e-04\n",
      " 1.34556629e-04 1.32878308e-04 1.31140994e-04 1.29272807e-04\n",
      " 1.26045562e-04 1.24967343e-04 1.20792096e-04 1.17015292e-04\n",
      " 1.15464186e-04 1.11284464e-04 1.09326161e-04 1.02939518e-04\n",
      " 1.01624123e-04 9.75431840e-05 9.66899649e-05 9.47550932e-05\n",
      " 9.38498708e-05 9.16334668e-05 8.89059461e-05 8.71387480e-05\n",
      " 8.55730145e-05 8.36220750e-05 8.25785175e-05 7.81652531e-05\n",
      " 7.75719989e-05 7.49595134e-05 7.32117536e-05 7.18018970e-05\n",
      " 6.83918584e-05 6.74568665e-05 6.56852394e-05 6.45199806e-05\n",
      " 6.32579056e-05 6.13544713e-05 5.99947679e-05 5.85657783e-05\n",
      " 5.76941795e-05 5.67998584e-05 5.57557419e-05 5.50688014e-05\n",
      " 5.41724030e-05 5.20198023e-05 5.09161861e-05 4.99975835e-05\n",
      " 4.89241476e-05 4.78538799e-05 4.69160005e-05 4.59864246e-05\n",
      " 4.39338150e-05 4.30161024e-05 4.21249887e-05 4.15948677e-05\n",
      " 3.89978394e-05 3.85533275e-05 3.77432375e-05 3.75964008e-05\n",
      " 3.72038603e-05 3.59711656e-05 3.59366831e-05 3.53550618e-05\n",
      " 3.44719602e-05 3.29410258e-05 3.27176465e-05 3.21409363e-05\n",
      " 3.15647012e-05 3.00912873e-05 2.99541305e-05 2.93699870e-05\n",
      " 2.85629600e-05 2.80329392e-05 2.77986092e-05 2.72621332e-05\n",
      " 2.67470689e-05 2.60360983e-05 2.54752955e-05 2.47304270e-05\n",
      " 2.43580676e-05 2.39143533e-05 2.31599268e-05 2.26748888e-05\n",
      " 2.21828332e-05 2.15388028e-05 2.07783197e-05 2.03215596e-05\n",
      " 2.00466648e-05 1.93767094e-05 1.91611670e-05 1.87299045e-05\n",
      " 1.84992119e-05 1.74079568e-05 1.71206117e-05 1.69749141e-05\n",
      " 1.63544728e-05 1.62200325e-05 1.57031272e-05 1.52980892e-05\n",
      " 1.50392121e-05 1.46632530e-05 1.43377480e-05 1.41179083e-05\n",
      " 1.38088679e-05 1.34411007e-05 1.31130619e-05 1.29785326e-05\n",
      " 1.22310329e-05 1.20556039e-05 1.17876100e-05 1.13121356e-05\n",
      " 1.11163903e-05 1.09860805e-05 1.07802480e-05 1.03339999e-05\n",
      " 1.01721621e-05 9.71593889e-06 9.32593099e-06 9.16297785e-06\n",
      " 8.98091461e-06 8.83568854e-06 8.52668270e-06 8.30890162e-06\n",
      " 8.18967952e-06 7.94523865e-06 7.91863614e-06 7.81516813e-06\n",
      " 7.45628285e-06 7.34018215e-06 7.00339962e-06 6.80817743e-06\n",
      " 6.62686492e-06 6.53855006e-06 6.31328359e-06 6.20139166e-06\n",
      " 6.11292600e-06 5.96378146e-06 5.66710881e-06 5.56266953e-06\n",
      " 5.14914978e-06 4.84287839e-06 4.72249811e-06 4.57420730e-06\n",
      " 4.49534042e-06 4.33049041e-06 4.23773433e-06 3.97233813e-06\n",
      " 3.96187069e-06 3.76993451e-06 3.62929956e-06 3.56621880e-06\n",
      " 3.46789062e-06 3.24728725e-06 3.14457198e-06 3.09263604e-06\n",
      " 2.94132413e-06 2.77747842e-06 2.76348545e-06 2.53867243e-06\n",
      " 2.52233131e-06 2.36131704e-06 2.22064640e-06 2.15362852e-06\n",
      " 2.07679089e-06 2.06164857e-06 1.92301607e-06 1.81396885e-06\n",
      " 1.77319354e-06 1.67863346e-06 1.58292162e-06 1.55229317e-06\n",
      " 1.47190634e-06 1.33907691e-06 1.32799340e-06 1.26740060e-06\n",
      " 1.15669073e-06 1.12166407e-06 1.05369696e-06 9.98880450e-07\n",
      " 9.69818489e-07 8.89413619e-07]\n",
      "\n",
      "\n",
      "Valores singulares\n",
      "[180.87828769 149.17289853 125.63321173 101.70778293  89.49026836\n",
      "  83.07130081  65.88720416  62.96054961  59.20649632  53.47041773\n",
      "  53.10197871  50.5773165   46.8733981   44.19808357  43.27962696\n",
      "  41.29260729  40.18440316  38.70873994  37.71901854  36.00463243\n",
      "  34.89648525  33.43733087  32.13309718  30.67499947  29.12316982\n",
      "  28.50508464  27.34604973  27.08334371  26.41150889  25.50114523\n",
      "  24.21848394  23.46509204  23.07863675  22.58847296  21.87387651\n",
      "  21.72795897  21.28175277  20.92620042  20.00828781  19.86878208\n",
      "  19.11856598  18.47513318  18.25801134  17.76625779  17.53963194\n",
      "  17.31205505  16.93524237  16.80473764  16.43830788  16.1319657\n",
      "  15.69678667  15.35404103  15.0106578   14.74756378  14.58023044\n",
      "  14.26747951  14.00850243  13.81232252  13.40157284  12.88404705\n",
      "  12.65445544  12.23810412  12.23215381  11.90980752  11.75698004\n",
      "  11.62375344  11.31549206  11.24914183  11.01314019  10.80712196\n",
      "  10.5954887   10.52865924  10.34911209  10.00354027   9.96362366\n",
      "   9.7641473    9.58324416   9.53267617   9.41641571   9.27556846\n",
      "   9.20612769   8.96601995   8.85189703   8.72679709   8.57426254\n",
      "   8.40374119   8.36745383   8.29304064   7.95405087   7.89698402\n",
      "   7.84977128   7.72078107   7.51345591   7.46233319   7.39660144\n",
      "   7.36686852   7.25643176   7.05860064   6.95518137   6.90663458\n",
      "   6.80436186   6.69644918   6.63465797   6.47905595   6.39462975\n",
      "   6.32709488   6.25037387   6.19303926   6.07239754   6.0076881\n",
      "   5.85768028   5.79991349   5.75136157   5.63759486   5.59671471\n",
      "   5.54458652   5.41388549   5.39777235   5.31399892   5.12096667\n",
      "   5.07040151   5.04493099   4.9942273    4.89797546   4.81256242\n",
      "   4.79272943   4.69310246   4.63712408   4.54891819   4.5204599\n",
      "   4.49081135   4.45870939   4.40270267   4.38383141   4.30997584\n",
      "   4.24206078   4.21385149   4.13687927   4.10031881   3.97874991\n",
      "   3.95324728   3.87305835   3.85608215   3.81730497   3.79902731\n",
      "   3.75389945   3.69760896   3.66067551   3.62763841   3.58604757\n",
      "   3.56360137   3.46706869   3.45388655   3.39522809   3.35541299\n",
      "   3.32294793   3.24308087   3.22083634   3.17826035   3.14994297\n",
      "   3.11898281   3.07169921   3.03747187   3.00107975   2.97866442\n",
      "   2.95548802   2.92819757   2.91010319   2.88632098   2.82839412\n",
      "   2.79823065   2.77287367   2.7429457    2.71277737   2.68606221\n",
      "   2.65931877   2.59929179   2.57200084   2.54522087   2.52915502\n",
      "   2.44892706   2.43493017   2.40921274   2.40452176   2.39193613\n",
      "   2.35197571   2.35084812   2.33174673   2.3024413    2.25073381\n",
      "   2.24308951   2.22323228   2.20321266   2.15117608   2.14626793\n",
      "   2.12523742   2.09583545   2.076299     2.06760279   2.04755461\n",
      "   2.02812012   2.00098359   1.97931626   1.95016512   1.93542788\n",
      "   1.91771867   1.88722712   1.86736046   1.84698804   1.81997892\n",
      "   1.78756066   1.76780393   1.75580645   1.72621779   1.71658991\n",
      "   1.69716223   1.68667804   1.63617396   1.62261399   1.61569496\n",
      "   1.58589288   1.5793611    1.55399154   1.5338192    1.52078604\n",
      "   1.50165698   1.48489604   1.47346816   1.45725184   1.43771563\n",
      "   1.42006307   1.41275994   1.37147263   1.36160163   1.3463825\n",
      "   1.31894862   1.30748727   1.29980129   1.28756734   1.26063628\n",
      "   1.2507261    1.22235672   1.19757211   1.18706335   1.17521103\n",
      "   1.16567042   1.14510583   1.1303876    1.12224849   1.1053735\n",
      "   1.10352143   1.0962882    1.07082071   1.06245121   1.03779131\n",
      "   1.02322469   1.0095077    1.00275839   0.98533345   0.97656276\n",
      "   0.96957218   0.95767122   0.93354735   0.92490517   0.88986339\n",
      "   0.86299317   0.85219989   0.83871324   0.8314514    0.81606381\n",
      "   0.80727674   0.78158944   0.78055898   0.76141684   0.74707978\n",
      "   0.74055884   0.73027809   0.70666882   0.69540266   0.68963609\n",
      "   0.67255378   0.65355317   0.65190478   0.62482574   0.62281153\n",
      "   0.60260499   0.58437992   0.57549423   0.56513468   0.56307066\n",
      "   0.5438098    0.52816606   0.52219613   0.50808165   0.49338425\n",
      "   0.48858761   0.47576848   0.45379357   0.45191165   0.44148152\n",
      "   0.42175885   0.41532396   0.40254408   0.39193345   0.38618981\n",
      "   0.36983454]\n",
      "\n",
      "\n",
      "Matriz de proyección\n",
      "[[-0.00622149  0.03464661  0.0858631  ... -0.01367241 -0.07816441\n",
      "   0.02974621]\n",
      " [ 0.00133916  0.01025657  0.09380216 ...  0.01213203  0.09515282\n",
      "   0.00114337]\n",
      " [ 0.00637482 -0.00445341  0.0961177  ... -0.03086698 -0.13059364\n",
      "   0.00033315]\n",
      " ...\n",
      " [-0.05646404  0.0956365  -0.00138784 ... -0.01832372  0.00963665\n",
      "  -0.00153225]\n",
      " [-0.08684139 -0.00817719 -0.08384181 ... -0.10100938 -0.04848918\n",
      "   0.05096427]\n",
      " [ 0.01509115 -0.01528841 -0.00474781 ... -0.04451875  0.00355923\n",
      "  -0.04220521]]\n",
      "\n",
      "\n",
      "Aplicando Naive Bayes sobre datos luego del PCA\n",
      "Cantidad de errores de clasificación sobre un total de 69 casos: 10\n",
      "Efectividad del algoritmo:  0.86\n"
     ]
    },
    {
     "data": {
      "image/png": "[encoded data removed]",
      "text/plain": [
       "<Figure size 432x288 with 1 Axes>"
      ]
     },
     "metadata": {
      "needs_background": "light"
     },
     "output_type": "display_data"
    },
    {
     "name": "stdout",
     "output_type": "stream",
     "text": [
      "Aplicando Perceptrón sobre datos luego del PCA\n",
      "Número de iteraciones\n",
      "13\n",
      "Cantidad de errores de clasificación sobre un total de 69 casos: 1\n",
      "Efectividad del algoritmo:  0.99\n"
     ]
    },
    {
     "data": {
      "image/png": "[encoded data removed]",
      "text/plain": [
       "<Figure size 432x288 with 1 Axes>"
      ]
     },
     "metadata": {
      "needs_background": "light"
     },
     "output_type": "display_data"
    },
    {
     "name": "stdout",
     "output_type": "stream",
     "text": [
      "Aplicando Árbol de decisión sobre datos luego del PCA\n",
      "Cantidad de errores de clasificación sobre un total de 69 casos: 6\n",
      "Efectividad del algoritmo:  0.91\n"
     ]
    },
    {
     "data": {
      "image/png": "[encoded data removed]",
      "text/plain": [
       "<Figure size 432x288 with 1 Axes>"
      ]
     },
     "metadata": {
      "needs_background": "light"
     },
     "output_type": "display_data"
    },
    {
     "name": "stdout",
     "output_type": "stream",
     "text": [
      "Aplicando el ensamble, resultados parciales\n",
      "Cantidad de errores de clasificación sobre un total de 69 casos: 3\n",
      "Efectividad del algoritmo:  0.96\n"
     ]
    },
    {
     "data": {
      "image/png": "[encoded data removed]",
      "text/plain": [
       "<Figure size 432x288 with 1 Axes>"
      ]
     },
     "metadata": {
      "needs_background": "light"
     },
     "output_type": "display_data"
    },
    {
     "name": "stdout",
     "output_type": "stream",
     "text": [
      "Aplicando Naive Bayes sobre datos luego del PCA\n",
      "Cantidad de errores de clasificación sobre un total de 68 casos: 5\n",
      "Efectividad del algoritmo:  0.93\n"
     ]
    },
    {
     "data": {
      "image/png": "[encoded data removed]",
      "text/plain": [
       "<Figure size 432x288 with 1 Axes>"
      ]
     },
     "metadata": {
      "needs_background": "light"
     },
     "output_type": "display_data"
    },
    {
     "name": "stdout",
     "output_type": "stream",
     "text": [
      "Aplicando Perceptrón sobre datos luego del PCA\n",
      "Número de iteraciones\n",
      "14\n",
      "Cantidad de errores de clasificación sobre un total de 68 casos: 1\n",
      "Efectividad del algoritmo:  0.99\n"
     ]
    },
    {
     "data": {
      "image/png": "[encoded data removed]",
      "text/plain": [
       "<Figure size 432x288 with 1 Axes>"
      ]
     },
     "metadata": {
      "needs_background": "light"
     },
     "output_type": "display_data"
    },
    {
     "name": "stdout",
     "output_type": "stream",
     "text": [
      "Aplicando Árbol de decisión sobre datos luego del PCA\n",
      "Cantidad de errores de clasificación sobre un total de 68 casos: 3\n",
      "Efectividad del algoritmo:  0.96\n"
     ]
    },
    {
     "data": {
      "image/png": "[encoded data removed]",
      "text/plain": [
       "<Figure size 432x288 with 1 Axes>"
      ]
     },
     "metadata": {
      "needs_background": "light"
     },
     "output_type": "display_data"
    },
    {
     "name": "stdout",
     "output_type": "stream",
     "text": [
      "Aplicando el ensamble, resultados parciales\n",
      "Cantidad de errores de clasificación sobre un total de 68 casos: 2\n",
      "Efectividad del algoritmo:  0.97\n"
     ]
    },
    {
     "data": {
      "image/png": "[encoded data removed]",
      "text/plain": [
       "<Figure size 432x288 with 1 Axes>"
      ]
     },
     "metadata": {
      "needs_background": "light"
     },
     "output_type": "display_data"
    },
    {
     "name": "stdout",
     "output_type": "stream",
     "text": [
      "Aplicando Naive Bayes sobre datos luego del PCA\n",
      "Cantidad de errores de clasificación sobre un total de 68 casos: 5\n",
      "Efectividad del algoritmo:  0.93\n"
     ]
    },
    {
     "data": {
      "image/png": "[encoded data removed]",
      "text/plain": [
       "<Figure size 432x288 with 1 Axes>"
      ]
     },
     "metadata": {
      "needs_background": "light"
     },
     "output_type": "display_data"
    },
    {
     "name": "stdout",
     "output_type": "stream",
     "text": [
      "Aplicando Perceptrón sobre datos luego del PCA\n",
      "Número de iteraciones\n",
      "13\n",
      "Cantidad de errores de clasificación sobre un total de 68 casos: 0\n",
      "Efectividad del algoritmo:  1.00\n"
     ]
    },
    {
     "data": {
      "image/png": "[encoded data removed]",
      "text/plain": [
       "<Figure size 432x288 with 1 Axes>"
      ]
     },
     "metadata": {
      "needs_background": "light"
     },
     "output_type": "display_data"
    },
    {
     "name": "stdout",
     "output_type": "stream",
     "text": [
      "Aplicando Árbol de decisión sobre datos luego del PCA\n",
      "Cantidad de errores de clasificación sobre un total de 68 casos: 2\n",
      "Efectividad del algoritmo:  0.97\n"
     ]
    },
    {
     "data": {
      "image/png": "[encoded data removed]",
      "text/plain": [
       "<Figure size 432x288 with 1 Axes>"
      ]
     },
     "metadata": {
      "needs_background": "light"
     },
     "output_type": "display_data"
    },
    {
     "name": "stdout",
     "output_type": "stream",
     "text": [
      "Aplicando el ensamble, resultados parciales\n",
      "Cantidad de errores de clasificación sobre un total de 68 casos: 1\n",
      "Efectividad del algoritmo:  0.99\n"
     ]
    },
    {
     "data": {
      "image/png": "[encoded data removed]",
      "text/plain": [
       "<Figure size 432x288 with 1 Axes>"
      ]
     },
     "metadata": {
      "needs_background": "light"
     },
     "output_type": "display_data"
    }
   ],
   "source": [
    "print(\"Cargue el archivo .txt o .csv que contiene los datos a analizar y presione el botón cuando esté listo\")\n",
    "display(up, b)\n",
    "print(\"\\nIngrese el número de componentes para el proceso de PCA\")\n",
    "display(w)\n",
    "print(\"\\nElija el número de pliegues para la validación cruzada\")\n",
    "display(Folds, output)\n",
    "print(\"\\n\\nSi los datos son correctos, presione el botón para comenzar \\n\\n\")"
   ]
  }
 ],
 "metadata": {
  "file_extension": ".py",
  "kernelspec": {
   "display_name": "Python 3",
   "language": "python",
   "name": "python3"
  },
  "language_info": {
   "codemirror_mode": {
    "name": "ipython",
    "version": 3
   },
   "file_extension": ".py",
   "mimetype": "text/x-python",
   "name": "python",
   "nbconvert_exporter": "python",
   "pygments_lexer": "ipython3",
   "version": "3.8.2"
  },
  "mimetype": "text/x-python",
  "name": "python",
  "npconvert_exporter": "python",
  "pygments_lexer": "ipython3",
  "version": 3
 },
 "nbformat": 4,
 "nbformat_minor": 2
}
