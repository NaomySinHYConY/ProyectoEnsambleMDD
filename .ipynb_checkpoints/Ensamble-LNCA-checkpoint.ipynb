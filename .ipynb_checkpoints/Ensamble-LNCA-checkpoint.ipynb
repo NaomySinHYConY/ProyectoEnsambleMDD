{
 "cells": [
  {
   "cell_type": "code",
   "execution_count": 2,
   "metadata": {},
   "outputs": [],
   "source": [
    "# Importación de las librerías de los widgets, numpy para el manejo de vectores y operaciones con arreglos, pandas para la \n",
    "# extracción de tablas y características, io para funciones del sistema y display para mostrar los widgets en nuestro \n",
    "# notebook\n",
    "import ipywidgets as widgets\n",
    "import numpy as np\n",
    "import matplotlib.pyplot as plt\n",
    "import pandas as pd\n",
    "import seaborn as sns\n",
    "import random\n",
    "\n",
    "from io import StringIO\n",
    "from IPython.display import display\n",
    "from sklearn.decomposition import PCA\n",
    "from sklearn.model_selection import train_test_split\n",
    "from sklearn.naive_bayes import GaussianNB\n",
    "from sklearn.tree import DecisionTreeClassifier\n",
    "from sklearn.linear_model import Perceptron\n",
    "from sklearn.metrics import confusion_matrix\n",
    "from sklearn.model_selection import KFold\n",
    "from sklearn.model_selection import StratifiedKFold\n",
    "from sklearn.preprocessing import StandardScaler\n",
    "from statistics import mode\n",
    "\n",
    "from IPython.display import Markdown, display\n",
    "def printmd(string):\n",
    "    display(Markdown(string))\n"
   ]
  },
  {
   "cell_type": "code",
   "execution_count": 11,
   "metadata": {},
   "outputs": [],
   "source": [
    "# Delimitador de los valores en el archivo\n",
    "delim = \",\"\n",
    "\n",
    "#Número de filas que se excluyen del set de datos (Observaciones, atributos y clases)\n",
    "rows = 3\n",
    "\n",
    "#Widget para ingresar un valor entero\n",
    "w = widgets.IntSlider(\n",
    "    value=2,\n",
    "    min=2,\n",
    "    max=12,\n",
    "    step=1,\n",
    "    description='#',\n",
    "    disabled=False,\n",
    "    continuous_update=False,\n",
    "    orientation='horizontal',\n",
    "    readout=True,\n",
    "    readout_format='d'\n",
    ")\n",
    "#Widget para obtener un valor entero\n",
    "Folds = widgets.IntSlider(\n",
    "    value=2,\n",
    "    min=2,\n",
    "    max=10,\n",
    "    step=1,\n",
    "    description='#',\n",
    "    disabled=False,\n",
    "    continuous_update=False,\n",
    "    orientation='horizontal',\n",
    "    readout=True,\n",
    "    readout_format='d'\n",
    ")\n",
    "\n",
    "CheckPCA = widgets.Checkbox(\n",
    "    value=False,\n",
    "    description='Mostrar datos PCA',\n",
    "    disabled=False,\n",
    "    indent=False\n",
    ")\n",
    "\n",
    "CheckShuff = widgets.Checkbox(\n",
    "    value=False,\n",
    "    description='Mezclar los datos K-Fold',\n",
    "    disabled=False,\n",
    "    indent=False\n",
    ")\n",
    "\n",
    "#Botón de comienzo del ensamble\n",
    "Start = widgets.Button(\n",
    "        description='Comenzar',\n",
    "        disabled=False,\n",
    "        button_style='', # 'success', 'info', 'warning', 'danger' or ''\n",
    "        tooltip='Comenzar ensamble',\n",
    "        icon='check' # (FontAwesome names without the `fa-` prefix)\n",
    "        )\n",
    "\n",
    "#Widget para el botón que carga los datos y actualiza los límites de los widgets\n",
    "b = widgets.Button(\n",
    "    description='Cargar datos',\n",
    "    disabled=False,\n",
    "    button_style='', # 'success', 'info', 'warning', 'danger' or ''\n",
    "    tooltip='Cargar datos',\n",
    "    icon='check' # (FontAwesome names without the `fa-` prefix)\n",
    ")\n",
    "\n",
    "#Widget de salida\n",
    "output = widgets.Output()\n",
    "\n",
    "\n",
    "#Widget para subir el archivo\n",
    "up= widgets.FileUpload(\n",
    "    accept='',  # Archivos o extenciones válidas. '.txt', '.pdf', 'image/*', 'image/*,.pdf'\n",
    "    multiple=False  # Cambiar a verdadero para aceptar más de un archivo pero no está soportado por la secuencia de lectura\n",
    ")\n",
    "\n",
    "# Convertidor del archivo\n",
    "# Cuando se usa el widget para subir archivos, el formato en el que arroja el documento no puede usarse directamente en la \n",
    "# función read_csv de pandas ya que la estructura es un JSON.\n",
    "\n",
    "# Se tiene que extraer el contenido de una serie de etiquetas, siendo la última (content) la\n",
    "# importante. Esta función sólo extrae de la etiqueta content el archivo leido para luego pasarlo a una cadena o buffer\n",
    "# con formato utf-8 que la función read_csv pueda leer.\n",
    "\n",
    "def content_parser():\n",
    "    # Si el contenido de up no tiene nada, entonces se manda el mensaje de error\n",
    "    \n",
    "    if up.value == {}:\n",
    "        # with output se encarga de mostrar valores en el widget de salida (output)\n",
    "        with output:\n",
    "            print('No CSV loaded')    \n",
    "    else:\n",
    "        # Inicialización de las variables typ y content\n",
    "        typ, content = \"\", \"\"\n",
    "        \n",
    "        # Extracción del contenido del widget up\n",
    "        up_value = up.value\n",
    "        \n",
    "        # Recorre internamente la estructura del JSON que se obtuvo del widget up\n",
    "        for i in up_value.keys():\n",
    "            \n",
    "            # Del valor value de nuestra variable up se extrae el componente type de metadata para verificar que es un\n",
    "            # archivo soportado\n",
    "            \n",
    "            typ = up_value[i][\"metadata\"][\"type\"]\n",
    "            \n",
    "            # Verificación del tipo de archivo\n",
    "            \n",
    "            if typ == \"application/vnd.ms-excel\" or typ == \"text/plain\":\n",
    "                # Extracción del contenido de la etiqueta content\n",
    "                content = up_value[i][\"content\"]\n",
    "                content_str = str(content, 'utf-8')\n",
    "                \n",
    "                if content_str != \"\":\n",
    "                    str_io = StringIO(content_str) \n",
    "                    return str_io\n",
    "\n",
    "def on_b_clicked(b):\n",
    "    # Llamado a la función que permite parsear el contenido\n",
    "    content = content_parser()\n",
    "    \n",
    "    #Si no se regresa un valor parseado entonces no se ejecuta nada de código y sólo se muestra el mensaje de error\n",
    "    if content is not None:\n",
    "        # Lectura del csv desde el buffer de memoria content, quitando los indices de las columnas, estableciendo el\n",
    "        # delimitador del contenido y quitando el header que pueda \n",
    "        data = pd.read_csv(content, index_col=False, sep=delim, header=None, skiprows = 3)\n",
    "        \n",
    "        # Extracción de las dimensiones de nuestro archivo, para poder determinar el final de las características y de las\n",
    "        # observaciones\n",
    "        xDim, yDim = data.shape\n",
    "        \n",
    "        # Extracción del número de observaciones, atributos y clases de nuestros datos\n",
    "#         noObservations = data[0][0]    \n",
    "#         noAttributes = data[0][1]\n",
    "#         noClasses = data[0][2]\n",
    "        noObservations = content.getvalue().split()[0]\n",
    "        noAttributes = content.getvalue().split()[1]\n",
    "        noClasses = content.getvalue().split()[2]\n",
    "        \n",
    "        # Impresión de los valores obtenidos\n",
    "        print(\"Información de los datos cargados: \")\n",
    "        print(\"# de Observaciones {}\".format(noObservations))\n",
    "        print(\"# de Atributos {}\".format(noAttributes))\n",
    "        print(\"# de Clases {}\".format(noClasses))\n",
    "        \n",
    "        w.max = noAttributes\n",
    "        # Extracción de las primeras n columnas que corresponden a las características de los datos\n",
    "        # Se elimina también la columna de los índices para reiniciar el contador y no empezar desde 3\n",
    "        # Se debe tomar en cuenta que la dimensión en Y es mayor que la dimensión total, por ejemplo, si el dataset\n",
    "        # tiene de 0 a 15 características, entonces la dimensión de Y será de 16, por eso se le resta uno a la dimensión Y\n",
    "        global dataSet\n",
    "        dataSet = data.iloc[rows:,:yDim].reset_index(drop=True)\n",
    "        \n",
    "        # Extracción de la columna que contiene a las clases de nuestro data set\n",
    "        # Se sigue el mismo proceso, pero ahora se mantiene sólo la última columna. Se deja entre [] para que el resultado\n",
    "        # se quede en las mismas condiciones que el anterior\n",
    "        global classes\n",
    "        classes = data.iloc[rows:,yDim - 1 ].reset_index(drop=True)\n",
    "        # Impresión del data set (primeros 5 valores) y de las clases\n",
    "        print(dataSet.head())\n",
    "        print(\"\\n\")\n",
    "        print(classes.head())\n",
    "        print(\"\\n\")\n",
    "        display(Start)\n",
    "                \n",
    "#Función para ejecutarse cuando el botón \"Comenzar\" se active\n",
    "def on_Start_clicked(Start):\n",
    "    \n",
    "        NoComp = w.value\n",
    "        pca = PCA(n_components=NoComp)\n",
    "        \n",
    "        print(\"Comenzando PCA con los componentes elegidos\\n\")\n",
    "        \n",
    "        global X_std\n",
    "        X_std = StandardScaler().fit_transform(dataSet)\n",
    "\n",
    "        pca.fit(X_std)\n",
    "        global DatosPCA\n",
    "        DatosPCA = pca.transform(X_std)\n",
    "        \n",
    "        if CheckPCA.value :    \n",
    "            print(\"Radio de varianza\")\n",
    "            print(pca.explained_variance_ratio_)\n",
    "            print(\"\\n\")\n",
    "            print(\"Valores singulares\")\n",
    "            print(pca.singular_values_)\n",
    "            print(\"\\n\")\n",
    "            print(\"Matriz de proyección\")\n",
    "            print((pca.components_).T)\n",
    "        print(\"\\n\")\n",
    "        \n",
    "        folds = Folds.value\n",
    "        # Naive Bayes\n",
    "        X = DatosPCA\n",
    "        y = classes.values\n",
    "    \n",
    "        #Arreglos de predicciones del ensamble para un elemento\n",
    "        y_pred_Ensamble = []\n",
    "    \n",
    "        #Arreglos de efectividad parciales de los clasificadores\n",
    "        ParcialesBayes = []\n",
    "        ParcialesPercep = []\n",
    "        ParcialesArbol = []\n",
    "        ParcialesEnsamble = []\n",
    "        \n",
    "        #Creación de los clasificadores\n",
    "        bayes_ingenuo = GaussianNB()\n",
    "        ppn = Perceptron( eta0=0.1, random_state=0)\n",
    "        clf = DecisionTreeClassifier()\n",
    "    \n",
    "        kf = StratifiedKFold( n_splits = folds , shuffle = CheckShuff.value , random_state = None )\n",
    "    \n",
    "    #     for train_index, test_index in kf.split(X, y):\n",
    "    #         #print(\"TRAIN:\", train_index, \"TEST:\", test_index)\n",
    "    #         X_train, X_test = X[train_index], X[test_index]    \n",
    "    #         y_train, y_test = y[train_index], y[test_index]\n",
    "    \n",
    "    #    for i,split in enumerate kf.split(X, y):\n",
    "        for train_index, test_index in kf.split(X, y):\n",
    "            #print(\"TRAIN:\", train_index, \"TEST:\", test_index)\n",
    "            X_train, X_test = X[train_index], X[test_index]\n",
    "            y_train, y_test = y[train_index], y[test_index]\n",
    "        \n",
    "            printmd( \"\\n\\nComienzo del entrenamiento\")\n",
    "            #Bayes\n",
    "            #bayes_ingenuo = GaussianNB()\n",
    "            # predicción \n",
    "            y_pred = bayes_ingenuo.fit(X_train, y_train).predict(X_test)\n",
    "            # Matriz de confusión\n",
    "            cnf_matrix = confusion_matrix(y_test, y_pred)\n",
    "            ResBayes = 1 - (y_test != y_pred).sum()/y_test.shape[0]\n",
    "            ParcialesBayes.append(ResBayes)\n",
    "            print(\"Aplicando Naive Bayes sobre datos luego del PCA\")\n",
    "            print(\"Cantidad de errores de clasificación sobre un total de {0} casos: {1}\"\n",
    "                    .format(y_test.shape[0],(y_test != y_pred).sum()))\n",
    "            print(\"Efectividad del algoritmo: {0: .2f}\"\n",
    "                    .format(ResBayes))\n",
    "            # Graficando la matriz de confusión\n",
    "            sns.heatmap(cnf_matrix.T, square=True, annot=True, fmt='d', cbar=False)\n",
    "            plt.xlabel('Clase verdadera')\n",
    "            plt.ylabel('Clase predecida')\n",
    "            plt.title('Matriz de Confusión')\n",
    "            plt.show()\n",
    "\n",
    "            #Perceptron\n",
    "            #ppn = Perceptron( eta0=0.1, random_state=0)\n",
    "            ppn.fit(X_train, y_train)\n",
    "            y_predA = ppn.predict(X_test)\n",
    "        \n",
    "            cnf_matrix2 = confusion_matrix(y_test, y_predA)\n",
    "            ResPercep = 1 - (y_test != y_predA).sum()/y_test.shape[0]\n",
    "            ParcialesPercep.append(ResPercep)\n",
    "            print(\"Aplicando Perceptrón sobre datos luego del PCA\")\n",
    "            print(\"Número de iteraciones\")\n",
    "            print(ppn.n_iter_)\n",
    "            print(\"Cantidad de errores de clasificación sobre un total de {0} casos: {1}\"\n",
    "                    .format(y_test.shape[0],(y_test != y_predA).sum()))\n",
    "            print(\"Efectividad del algoritmo: {0: .2f}\"\n",
    "                    .format(ResPercep))\n",
    "            # Graficando la matriz de confusión\n",
    "            sns.heatmap(cnf_matrix2.T, square=True, annot=True, fmt='d', cbar=False)\n",
    "            plt.xlabel('Clase verdadera')\n",
    "            plt.ylabel('Clase predecida')\n",
    "            plt.title('Matriz de Confusión')\n",
    "            plt.show()\n",
    "    \n",
    "    \n",
    "            #Arbol de decisión\n",
    "            #clf = DecisionTreeClassifier()\n",
    "            clf = clf.fit(X_train ,y_train)\n",
    "            y_predP = clf.predict(X_test)\n",
    "\n",
    "            cnf_matrix3 = confusion_matrix(y_test, y_predP)\n",
    "            ResArbol = 1 - (y_test != y_predP).sum()/y_test.shape[0]\n",
    "            ParcialesArbol.append(ResArbol)\n",
    "            print(\"Aplicando Árbol de decisión sobre datos luego del PCA\")\n",
    "            print(\"Cantidad de errores de clasificación sobre un total de {0} casos: {1}\"\n",
    "                    .format(y_test.shape[0],(y_test != y_predP).sum()))\n",
    "            print(\"Efectividad del algoritmo: {0: .2f}\"\n",
    "                    .format(ResArbol))\n",
    "            # Graficando la matriz de confusión\n",
    "            sns.heatmap(cnf_matrix3.T, square=True, annot=True, fmt='d', cbar=False)\n",
    "            plt.xlabel('Clase verdadera')\n",
    "            plt.ylabel('Clase predecida')\n",
    "            plt.title('Matriz de Confusión')\n",
    "            plt.show()\n",
    "            \n",
    "            #Ensamble sobre resultados parciales\n",
    "    \n",
    "            for i in range(len(y_pred)):\n",
    "                y1 = y_pred[i]\n",
    "                y2 = y_predP[i]\n",
    "                y3 = y_predA[i]\n",
    "                x = [y1, y2, y3]\n",
    "                if y1 != y2 and y1 != y3 and y2 != y3 :\n",
    "                    y_pred_Ensamble.append(random.choice(x))\n",
    "                else :\n",
    "                    y_pred_Ensamble.append(mode(x))\n",
    "\n",
    "            cnf_matrixEnsamble = confusion_matrix(y_test, y_pred_Ensamble)\n",
    "            ResEnsamble = 1 - (y_test != y_pred_Ensamble).sum()/y_test.shape[0]\n",
    "            ParcialesEnsamble.append(ResEnsamble)\n",
    "            print(\"Aplicando el ensamble, resultados parciales\")\n",
    "            print(\"Cantidad de errores de clasificación sobre un total de {0} casos: {1}\"\n",
    "                    .format(y_test.shape[0],(y_test != y_pred_Ensamble).sum()))\n",
    "            print(\"Efectividad del algoritmo: {0: .2f}\"\n",
    "                    .format(ResEnsamble))\n",
    "            # Graficando la matriz de confusión\n",
    "            sns.heatmap(cnf_matrixEnsamble.T, square=True, annot=True, fmt='d', cbar=False)\n",
    "            plt.xlabel('Clase verdadera')\n",
    "            plt.ylabel('Clase predecida')\n",
    "            plt.title('Matriz de Confusión')\n",
    "            plt.show()\n",
    "            y_pred_Ensamble = []\n",
    "            print(\" ---------------------------- Fin de vuelta ----------------------------\")\n",
    "\n",
    "        print(\"\\n\\nResultados de efectividad promedio:\")\n",
    "        avgBay = sum(ParcialesBayes)/len(ParcialesBayes)\n",
    "        avgPer = sum(ParcialesPercep)/len(ParcialesPercep)\n",
    "        avgArb = sum(ParcialesArbol)/len(ParcialesArbol)\n",
    "        avgEns = sum(ParcialesEnsamble)/len(ParcialesEnsamble)\n",
    "\n",
    "        print(\"Naive Bayes: \")\n",
    "        print(avgBay)\n",
    "\n",
    "        print(\"Perceptrón: \")\n",
    "        print(avgPer)\n",
    "\n",
    "        print(\"Árbol de decisión: \")\n",
    "        print(avgArb)\n",
    "\n",
    "        print(\"Ensamble aplicado: \")\n",
    "        print(avgEns)\n",
    "           \n",
    "    \n",
    "    # Asignación de la función on_button_clicked al evento on_click del botón b \n",
    "Start.on_click(on_Start_clicked)\n",
    "b.on_click(on_b_clicked)"
   ]
  },
  {
   "cell_type": "code",
   "execution_count": 10,
   "metadata": {
    "scrolled": false
   },
   "outputs": [
    {
     "data": {
      "text/markdown": [
       "-------------------------------- Proyecto final 'Ensamble'- Lluvia Naomy Carmona Avendaño --------------------------------"
      ],
      "text/plain": [
       "<IPython.core.display.Markdown object>"
      ]
     },
     "metadata": {},
     "output_type": "display_data"
    },
    {
     "name": "stdout",
     "output_type": "stream",
     "text": [
      "\n",
      "\n",
      "Cargue el archivo .txt o .csv que contiene los datos a analizar y presione el botón cuando esté listo\n"
     ]
    },
    {
     "data": {
      "application/vnd.jupyter.widget-view+json": {
       "model_id": "5578e1874f5a4bb68a2320865c9c9f55",
       "version_major": 2,
       "version_minor": 0
      },
      "text/plain": [
       "FileUpload(value={}, description='Upload')"
      ]
     },
     "metadata": {},
     "output_type": "display_data"
    },
    {
     "data": {
      "application/vnd.jupyter.widget-view+json": {
       "model_id": "773b11b2b17b486fadece684b1a5b0c6",
       "version_major": 2,
       "version_minor": 0
      },
      "text/plain": [
       "Button(description='Cargar datos', icon='check', style=ButtonStyle(), tooltip='Cargar datos')"
      ]
     },
     "metadata": {},
     "output_type": "display_data"
    },
    {
     "name": "stdout",
     "output_type": "stream",
     "text": [
      "\n",
      "Ingrese el número de componentes para el proceso de PCA\n"
     ]
    },
    {
     "data": {
      "application/vnd.jupyter.widget-view+json": {
       "model_id": "2eecdf0789ba418b8bba6eabe85f3287",
       "version_major": 2,
       "version_minor": 0
      },
      "text/plain": [
       "IntSlider(value=2, continuous_update=False, description='#', max=12, min=2)"
      ]
     },
     "metadata": {},
     "output_type": "display_data"
    },
    {
     "name": "stdout",
     "output_type": "stream",
     "text": [
      "\n",
      "Elija el número de pliegues para la validación cruzada\n"
     ]
    },
    {
     "data": {
      "application/vnd.jupyter.widget-view+json": {
       "model_id": "32e4877769cb453fbddff23677febc3d",
       "version_major": 2,
       "version_minor": 0
      },
      "text/plain": [
       "IntSlider(value=2, continuous_update=False, description='#', max=10, min=2)"
      ]
     },
     "metadata": {},
     "output_type": "display_data"
    },
    {
     "data": {
      "application/vnd.jupyter.widget-view+json": {
       "model_id": "69e3913b6aff4e76910fea726f1b03c7",
       "version_major": 2,
       "version_minor": 0
      },
      "text/plain": [
       "Output()"
      ]
     },
     "metadata": {},
     "output_type": "display_data"
    },
    {
     "name": "stdout",
     "output_type": "stream",
     "text": [
      "Marque la casilla siguiente para visualizar los datos correspondientes al proceso PCA\n"
     ]
    },
    {
     "data": {
      "application/vnd.jupyter.widget-view+json": {
       "model_id": "838062f3f57d4c5eb52687e74c61d643",
       "version_major": 2,
       "version_minor": 0
      },
      "text/plain": [
       "Checkbox(value=False, description='Mostrar datos PCA', indent=False)"
      ]
     },
     "metadata": {},
     "output_type": "display_data"
    },
    {
     "name": "stdout",
     "output_type": "stream",
     "text": [
      "Marque la casilla siguiente para mezclar los datos de la validación cruzada antes de dividirlos en lotes\n"
     ]
    },
    {
     "data": {
      "application/vnd.jupyter.widget-view+json": {
       "model_id": "eb14f8abd0d945339efd2c335d274609",
       "version_major": 2,
       "version_minor": 0
      },
      "text/plain": [
       "Checkbox(value=False, description='Mezclar los datos K-Fold', indent=False)"
      ]
     },
     "metadata": {},
     "output_type": "display_data"
    },
    {
     "name": "stdout",
     "output_type": "stream",
     "text": [
      "\n",
      "\n",
      "Si los datos son correctos, presione el botón para comenzar \n",
      "\n",
      "\n",
      "Información de los datos cargados: \n",
      "# de Observaciones 420\n",
      "# de Atributos 19\n",
      "# de Clases 7\n",
      "   0    1   2         3    4         5         6         7         8   \\\n",
      "0  34  137   0  0.000000  0.0  0.500000  0.166667  1.111111  0.474074   \n",
      "1  39  111   0  0.000000  0.0  0.722222  0.374074  0.888889  0.429629   \n",
      "2  16  128   0  0.000000  0.0  0.500000  0.077778  0.666667  0.311111   \n",
      "3  26   67   0  0.111111  0.0  1.000000  0.888890  2.444445  3.185185   \n",
      "4  14  110   0  0.000000  0.0  1.722222  5.351850  2.666667  1.022223   \n",
      "\n",
      "          9          10         11         12        13         14         15  \\\n",
      "0   5.851852   7.777778   6.444445   3.333333  5.777778   1.777778  -7.555555   \n",
      "1   6.037037   7.000000   7.666666   3.444444  2.888889   4.888889  -7.777778   \n",
      "2   5.555555   6.888889   6.666666   3.111111  4.000000   3.333333  -7.333334   \n",
      "3  20.000000  19.555555  25.888890  14.555555 -1.333333  17.666666 -16.333334   \n",
      "4  17.925926  18.888890  21.444445  13.444445  2.888889  10.555555 -13.444445   \n",
      "\n",
      "          16        17        18  19  \n",
      "0   7.777778  0.573633 -0.744272   0  \n",
      "1   7.888889  0.562919 -1.175773   0  \n",
      "2   7.111111  0.561508 -0.985811   0  \n",
      "3  25.888890  0.436939 -1.623202   0  \n",
      "4  21.444445  0.368848 -1.345096   0  \n",
      "\n",
      "\n",
      "0    0\n",
      "1    0\n",
      "2    0\n",
      "3    0\n",
      "4    0\n",
      "Name: 19, dtype: int64\n",
      "\n",
      "\n"
     ]
    },
    {
     "data": {
      "application/vnd.jupyter.widget-view+json": {
       "model_id": "ed43bacdfc51425ab43103bae8eed882",
       "version_major": 2,
       "version_minor": 0
      },
      "text/plain": [
       "Button(description='Comenzar', icon='check', style=ButtonStyle(), tooltip='Comenzar ensamble')"
      ]
     },
     "metadata": {},
     "output_type": "display_data"
    },
    {
     "name": "stdout",
     "output_type": "stream",
     "text": [
      "Comenzando PCA con los componentes elegidos\n",
      "\n",
      "\n",
      "\n"
     ]
    },
    {
     "data": {
      "text/markdown": [
       "\n",
       "\n",
       "Comienzo del entrenamiento"
      ],
      "text/plain": [
       "<IPython.core.display.Markdown object>"
      ]
     },
     "metadata": {},
     "output_type": "display_data"
    },
    {
     "name": "stdout",
     "output_type": "stream",
     "text": [
      "Aplicando Naive Bayes sobre datos luego del PCA\n",
      "Cantidad de errores de clasificación sobre un total de 139 casos: 8\n",
      "Efectividad del algoritmo:  0.94\n"
     ]
    },
    {
     "data": {
      "image/png": "[encoded data removed]",
      "text/plain": [
       "<Figure size 432x288 with 1 Axes>"
      ]
     },
     "metadata": {
      "needs_background": "light"
     },
     "output_type": "display_data"
    },
    {
     "name": "stdout",
     "output_type": "stream",
     "text": [
      "Aplicando Perceptrón sobre datos luego del PCA\n",
      "Número de iteraciones\n",
      "15\n",
      "Cantidad de errores de clasificación sobre un total de 139 casos: 7\n",
      "Efectividad del algoritmo:  0.95\n"
     ]
    },
    {
     "data": {
      "image/png": "[encoded data removed]",
      "text/plain": [
       "<Figure size 432x288 with 1 Axes>"
      ]
     },
     "metadata": {
      "needs_background": "light"
     },
     "output_type": "display_data"
    },
    {
     "name": "stdout",
     "output_type": "stream",
     "text": [
      "Aplicando Árbol de decisión sobre datos luego del PCA\n",
      "Cantidad de errores de clasificación sobre un total de 139 casos: 11\n",
      "Efectividad del algoritmo:  0.92\n"
     ]
    },
    {
     "data": {
      "image/png": "[encoded data removed]",
      "text/plain": [
       "<Figure size 432x288 with 1 Axes>"
      ]
     },
     "metadata": {
      "needs_background": "light"
     },
     "output_type": "display_data"
    },
    {
     "name": "stdout",
     "output_type": "stream",
     "text": [
      "Aplicando el ensamble, resultados parciales\n",
      "Cantidad de errores de clasificación sobre un total de 139 casos: 9\n",
      "Efectividad del algoritmo:  0.94\n"
     ]
    },
    {
     "data": {
      "image/png": "[encoded data removed]",
      "text/plain": [
       "<Figure size 432x288 with 1 Axes>"
      ]
     },
     "metadata": {
      "needs_background": "light"
     },
     "output_type": "display_data"
    },
    {
     "name": "stdout",
     "output_type": "stream",
     "text": [
      " ---------------------------- Fin de vuelta ----------------------------\n"
     ]
    },
    {
     "data": {
      "text/markdown": [
       "\n",
       "\n",
       "Comienzo del entrenamiento"
      ],
      "text/plain": [
       "<IPython.core.display.Markdown object>"
      ]
     },
     "metadata": {},
     "output_type": "display_data"
    },
    {
     "name": "stdout",
     "output_type": "stream",
     "text": [
      "Aplicando Naive Bayes sobre datos luego del PCA\n",
      "Cantidad de errores de clasificación sobre un total de 139 casos: 11\n",
      "Efectividad del algoritmo:  0.92\n"
     ]
    },
    {
     "data": {
      "image/png": "[encoded data removed]",
      "text/plain": [
       "<Figure size 432x288 with 1 Axes>"
      ]
     },
     "metadata": {
      "needs_background": "light"
     },
     "output_type": "display_data"
    },
    {
     "name": "stdout",
     "output_type": "stream",
     "text": [
      "Aplicando Perceptrón sobre datos luego del PCA\n",
      "Número de iteraciones\n",
      "16\n",
      "Cantidad de errores de clasificación sobre un total de 139 casos: 16\n",
      "Efectividad del algoritmo:  0.88\n"
     ]
    },
    {
     "data": {
      "image/png": "[encoded data removed]",
      "text/plain": [
       "<Figure size 432x288 with 1 Axes>"
      ]
     },
     "metadata": {
      "needs_background": "light"
     },
     "output_type": "display_data"
    },
    {
     "name": "stdout",
     "output_type": "stream",
     "text": [
      "Aplicando Árbol de decisión sobre datos luego del PCA\n",
      "Cantidad de errores de clasificación sobre un total de 139 casos: 15\n",
      "Efectividad del algoritmo:  0.89\n"
     ]
    },
    {
     "data": {
      "image/png": "[encoded data removed]",
      "text/plain": [
       "<Figure size 432x288 with 1 Axes>"
      ]
     },
     "metadata": {
      "needs_background": "light"
     },
     "output_type": "display_data"
    },
    {
     "name": "stdout",
     "output_type": "stream",
     "text": [
      "Aplicando el ensamble, resultados parciales\n",
      "Cantidad de errores de clasificación sobre un total de 139 casos: 10\n",
      "Efectividad del algoritmo:  0.93\n"
     ]
    },
    {
     "data": {
      "image/png": "[encoded data removed]",
      "text/plain": [
       "<Figure size 432x288 with 1 Axes>"
      ]
     },
     "metadata": {
      "needs_background": "light"
     },
     "output_type": "display_data"
    },
    {
     "name": "stdout",
     "output_type": "stream",
     "text": [
      " ---------------------------- Fin de vuelta ----------------------------\n"
     ]
    },
    {
     "data": {
      "text/markdown": [
       "\n",
       "\n",
       "Comienzo del entrenamiento"
      ],
      "text/plain": [
       "<IPython.core.display.Markdown object>"
      ]
     },
     "metadata": {},
     "output_type": "display_data"
    },
    {
     "name": "stdout",
     "output_type": "stream",
     "text": [
      "Aplicando Naive Bayes sobre datos luego del PCA\n",
      "Cantidad de errores de clasificación sobre un total de 139 casos: 9\n",
      "Efectividad del algoritmo:  0.94\n"
     ]
    },
    {
     "data": {
      "image/png": "[encoded data removed]",
      "text/plain": [
       "<Figure size 432x288 with 1 Axes>"
      ]
     },
     "metadata": {
      "needs_background": "light"
     },
     "output_type": "display_data"
    },
    {
     "name": "stdout",
     "output_type": "stream",
     "text": [
      "Aplicando Perceptrón sobre datos luego del PCA\n",
      "Número de iteraciones\n",
      "17\n",
      "Cantidad de errores de clasificación sobre un total de 139 casos: 7\n",
      "Efectividad del algoritmo:  0.95\n"
     ]
    },
    {
     "data": {
      "image/png": "[encoded data removed]",
      "text/plain": [
       "<Figure size 432x288 with 1 Axes>"
      ]
     },
     "metadata": {
      "needs_background": "light"
     },
     "output_type": "display_data"
    },
    {
     "name": "stdout",
     "output_type": "stream",
     "text": [
      "Aplicando Árbol de decisión sobre datos luego del PCA\n",
      "Cantidad de errores de clasificación sobre un total de 139 casos: 10\n",
      "Efectividad del algoritmo:  0.93\n"
     ]
    },
    {
     "data": {
      "image/png": "[encoded data removed]",
      "text/plain": [
       "<Figure size 432x288 with 1 Axes>"
      ]
     },
     "metadata": {
      "needs_background": "light"
     },
     "output_type": "display_data"
    },
    {
     "name": "stdout",
     "output_type": "stream",
     "text": [
      "Aplicando el ensamble, resultados parciales\n",
      "Cantidad de errores de clasificación sobre un total de 139 casos: 2\n",
      "Efectividad del algoritmo:  0.99\n"
     ]
    },
    {
     "data": {
      "image/png": "[encoded data removed]",
      "text/plain": [
       "<Figure size 432x288 with 1 Axes>"
      ]
     },
     "metadata": {
      "needs_background": "light"
     },
     "output_type": "display_data"
    },
    {
     "name": "stdout",
     "output_type": "stream",
     "text": [
      " ---------------------------- Fin de vuelta ----------------------------\n",
      "\n",
      "\n",
      "Resultados de efectividad promedio:\n",
      "Naive Bayes: \n",
      "0.9328537170263789\n",
      "Perceptrón: \n",
      "0.9280575539568345\n",
      "Árbol de decisión: \n",
      "0.9136690647482014\n",
      "Ensamble aplicado: \n",
      "0.9496402877697842\n"
     ]
    }
   ],
   "source": [
    "printmd(\"-------------------------------- Proyecto final 'Ensamble'- Lluvia Naomy Carmona Avendaño --------------------------------\")\n",
    "print(\"\\n\\nCargue el archivo .txt o .csv que contiene los datos a analizar y presione el botón cuando esté listo\")\n",
    "display(up, b)\n",
    "print(\"\\nIngrese el número de componentes para el proceso de PCA\")\n",
    "display(w)\n",
    "print(\"\\nElija el número de pliegues para la validación cruzada\")\n",
    "display(Folds, output)\n",
    "print(\"Marque la casilla siguiente para visualizar los datos correspondientes al proceso PCA\")\n",
    "display(CheckPCA)\n",
    "print(\"Marque la casilla siguiente para mezclar los datos de la validación cruzada antes de dividirlos en lotes\")\n",
    "display(CheckShuff)\n",
    "print(\"\\n\\nSi los datos son correctos, presione el botón para comenzar \\n\\n\")"
   ]
  }
 ],
 "metadata": {
  "file_extension": ".py",
  "kernelspec": {
   "display_name": "Python 3",
   "language": "python",
   "name": "python3"
  },
  "language_info": {
   "codemirror_mode": {
    "name": "ipython",
    "version": 3
   },
   "file_extension": ".py",
   "mimetype": "text/x-python",
   "name": "python",
   "nbconvert_exporter": "python",
   "pygments_lexer": "ipython3",
   "version": "3.8.2"
  },
  "mimetype": "text/x-python",
  "name": "python",
  "npconvert_exporter": "python",
  "pygments_lexer": "ipython3",
  "version": 3
 },
 "nbformat": 4,
 "nbformat_minor": 2
}
